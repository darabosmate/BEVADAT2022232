{
  "cells": [
    {
      "cell_type": "code",
      "execution_count": 56,
      "metadata": {
        "colab": {
          "base_uri": "https://localhost:8080/",
          "height": 53
        },
        "id": "Z_G6oywQel6Z",
        "outputId": "b03187a5-1eb1-4e94-8a5e-c09cb2f6f091"
      },
      "outputs": [
        {
          "output_type": "execute_result",
          "data": {
            "text/plain": [
              "'\\nKészíts egy metódust ami a cifar100 adatbázisból betölti a train és test adatokat. (tf.keras.datasets.cifar100.load_data())\\nMajd a tanitó, és tesztelő adatokat normalizálja, és vissza is tér velük.\\n\\n\\nEgy példa a kimenetre: train_images, train_labels, test_images, test_labels\\nfüggvény neve: cifar100_data\\n'"
            ],
            "application/vnd.google.colaboratory.intrinsic+json": {
              "type": "string"
            }
          },
          "metadata": {},
          "execution_count": 56
        }
      ],
      "source": [
        "\n",
        "import tensorflow as tf\n",
        "import numpy as np\n",
        "\n",
        "'''\n",
        "Készíts egy metódust ami a cifar100 adatbázisból betölti a train és test adatokat. (tf.keras.datasets.cifar100.load_data())\n",
        "Majd a tanitó, és tesztelő adatokat normalizálja, és vissza is tér velük.\n",
        "\n",
        "\n",
        "Egy példa a kimenetre: train_images, train_labels, test_images, test_labels\n",
        "függvény neve: cifar100_data\n",
        "'''\n",
        "\n"
      ]
    },
    {
      "cell_type": "code",
      "source": [
        "def cifar100_data():\n",
        "  (train_images, train_labels), (test_images, test_labels) = tf.keras.datasets.cifar100.load_data()\n",
        "  train_images = train_images / 255.0\n",
        "  test_images = test_images / 255.0\n",
        "  return (train_images, train_labels), (test_images, test_labels)\n",
        "\n",
        "#(train_images, train_labels), (test_images, test_labels) = cifar100_data()\n",
        "\n",
        "\n",
        "'''import matplotlib.pyplot as plt\n",
        "\n",
        "plt.imshow(train_images[3])\n",
        "plt.show()'''"
      ],
      "metadata": {
        "colab": {
          "base_uri": "https://localhost:8080/",
          "height": 35
        },
        "id": "MRA6Xb58fE3K",
        "outputId": "771d0a6f-72ef-4472-e90c-da54aebb1d8a"
      },
      "execution_count": 57,
      "outputs": [
        {
          "output_type": "execute_result",
          "data": {
            "text/plain": [
              "'import matplotlib.pyplot as plt\\n\\nplt.imshow(train_images[3])\\nplt.show()'"
            ],
            "application/vnd.google.colaboratory.intrinsic+json": {
              "type": "string"
            }
          },
          "metadata": {},
          "execution_count": 57
        }
      ]
    },
    {
      "cell_type": "code",
      "execution_count": 58,
      "metadata": {
        "colab": {
          "base_uri": "https://localhost:8080/",
          "height": 53
        },
        "id": "Pe94UG2Xel6k",
        "outputId": "4b9b3fa1-5f08-4cd3-d3ac-4de9c916c694"
      },
      "outputs": [
        {
          "output_type": "execute_result",
          "data": {
            "text/plain": [
              "'\\nKészíts egy konvolúciós neurális hálót, ami képes felismerni a képen mi van a 100 osztály közül.\\nA háló kimenete legyen 100 elemű, és a softmax aktivációs függvényt használja.\\nHálon belül tetszőleges számú réteg lehet..\\n\\n\\nEgy példa a kimenetre: model,\\nreturn type: keras.engine.sequential.Sequential\\nfüggvény neve: cifar100_model\\n'"
            ],
            "application/vnd.google.colaboratory.intrinsic+json": {
              "type": "string"
            }
          },
          "metadata": {},
          "execution_count": 58
        }
      ],
      "source": [
        "'''\n",
        "Készíts egy konvolúciós neurális hálót, ami képes felismerni a képen mi van a 100 osztály közül.\n",
        "A háló kimenete legyen 100 elemű, és a softmax aktivációs függvényt használja.\n",
        "Hálon belül tetszőleges számú réteg lehet..\n",
        "\n",
        "\n",
        "Egy példa a kimenetre: model,\n",
        "return type: keras.engine.sequential.Sequential\n",
        "függvény neve: cifar100_model\n",
        "'''\n"
      ]
    },
    {
      "cell_type": "code",
      "source": [
        "def cifar100_model():\n",
        "  model = tf.keras.models.Sequential([\n",
        "      # Convolutional layer with 32 filters, 3x3 kernel size, and ReLU activation\n",
        "    tf.keras.layers.Conv2D(32, (3,3), activation='relu', input_shape=(32, 32, 3)),\n",
        "    # Max pooling layer with 2x2 pool size\n",
        "    tf.keras.layers.MaxPooling2D((2,2)),\n",
        "    # Flatten layer to convert the 2D feature maps into a 1D feature vector\n",
        "    tf.keras.layers.Flatten(),\n",
        "    # Fully connected layer with 64 units and ReLU activation\n",
        "    tf.keras.layers.Dense(64, activation='relu'),\n",
        "    # Output layer with 100 units and softmax activation for classification\n",
        "    tf.keras.layers.Dense(100, activation='softmax')\n",
        "  ])\n",
        "  return model"
      ],
      "metadata": {
        "id": "0yx2gOYnhh7g"
      },
      "execution_count": 59,
      "outputs": []
    },
    {
      "cell_type": "code",
      "execution_count": 60,
      "metadata": {
        "colab": {
          "base_uri": "https://localhost:8080/",
          "height": 53
        },
        "id": "EqHv19X5el6m",
        "outputId": "017dfd86-f849-4a88-c096-9855bc399d6f"
      },
      "outputs": [
        {
          "output_type": "execute_result",
          "data": {
            "text/plain": [
              "'\\nKészíts egy metódust, ami a bemeneti hálot compile-olja.\\nOptimizer: Adam\\nLoss: SparseCategoricalCrossentropy(from_logits=False)\\n\\nEgy példa a bemenetre: model\\nEgy példa a kimenetre: model\\nreturn type: keras.engine.sequential.Sequential\\nfüggvény neve: model_compile\\n'"
            ],
            "application/vnd.google.colaboratory.intrinsic+json": {
              "type": "string"
            }
          },
          "metadata": {},
          "execution_count": 60
        }
      ],
      "source": [
        "'''\n",
        "Készíts egy metódust, ami a bemeneti hálot compile-olja.\n",
        "Optimizer: Adam\n",
        "Loss: SparseCategoricalCrossentropy(from_logits=False)\n",
        "\n",
        "Egy példa a bemenetre: model\n",
        "Egy példa a kimenetre: model\n",
        "return type: keras.engine.sequential.Sequential\n",
        "függvény neve: model_compile\n",
        "'''\n"
      ]
    },
    {
      "cell_type": "code",
      "source": [
        "#from keras.saving.saving_lib import optimizer\n",
        "def model_compile(model):\n",
        "  model.compile(optimizer='adam', loss='sparse_categorical_crossentropy', metrics=['accuracy'])\n",
        "  return model"
      ],
      "metadata": {
        "id": "h8L1TKKDk3Mx"
      },
      "execution_count": 61,
      "outputs": []
    },
    {
      "cell_type": "code",
      "execution_count": 62,
      "metadata": {
        "colab": {
          "base_uri": "https://localhost:8080/",
          "height": 53
        },
        "id": "FeXjsjp1el6o",
        "outputId": "e88df462-86d2-4cee-fc02-25b94f75c813"
      },
      "outputs": [
        {
          "output_type": "execute_result",
          "data": {
            "text/plain": [
              "'\\nKészíts egy metódust, ami a bemeneti hálót feltanítja.\\n\\nEgy példa a bemenetre: model,epochs, train_images, train_labelsz\\nEgy példa a kimenetre: model\\nreturn type: keras.engine.sequential.Sequential\\nfüggvény neve: model_fit\\n'"
            ],
            "application/vnd.google.colaboratory.intrinsic+json": {
              "type": "string"
            }
          },
          "metadata": {},
          "execution_count": 62
        }
      ],
      "source": [
        "'''\n",
        "Készíts egy metódust, ami a bemeneti hálót feltanítja.\n",
        "\n",
        "Egy példa a bemenetre: model,epochs, train_images, train_labelsz\n",
        "Egy példa a kimenetre: model\n",
        "return type: keras.engine.sequential.Sequential\n",
        "függvény neve: model_fit\n",
        "'''\n"
      ]
    },
    {
      "cell_type": "code",
      "source": [
        "def model_fit(model, epochs, train_images, train_labels):\n",
        "  model.fit(epochs=epochs, x=train_images, y=train_labels)\n",
        "  return model"
      ],
      "metadata": {
        "id": "Qjl7s68hk3oM"
      },
      "execution_count": 63,
      "outputs": []
    },
    {
      "cell_type": "code",
      "execution_count": 64,
      "metadata": {
        "colab": {
          "base_uri": "https://localhost:8080/",
          "height": 53
        },
        "id": "7EEfDkcwel6p",
        "outputId": "c0a44f65-d7e8-4ad6-d37c-ac3bc24fca92"
      },
      "outputs": [
        {
          "output_type": "execute_result",
          "data": {
            "text/plain": [
              "'\\nKészíts egy metódust, ami a bemeneti hálót kiértékeli a teszt adatokon.\\n\\nEgy példa a bemenetre: model, test_images, test_labels\\nEgy példa a kimenetre: test_loss, test_acc\\nreturn type: float, float\\nfüggvény neve: model_evaluate\\n'"
            ],
            "application/vnd.google.colaboratory.intrinsic+json": {
              "type": "string"
            }
          },
          "metadata": {},
          "execution_count": 64
        }
      ],
      "source": [
        "'''\n",
        "Készíts egy metódust, ami a bemeneti hálót kiértékeli a teszt adatokon.\n",
        "\n",
        "Egy példa a bemenetre: model, test_images, test_labels\n",
        "Egy példa a kimenetre: test_loss, test_acc\n",
        "return type: float, float\n",
        "függvény neve: model_evaluate\n",
        "'''\n"
      ]
    },
    {
      "cell_type": "code",
      "source": [
        "def model_evaluate(model, test_images, test_labels):\n",
        "  loss, acc = model.evaluate(test_images, test_labels, verbose=0)\n",
        "  return (loss, acc)"
      ],
      "metadata": {
        "id": "JjLC1fuJk3-d"
      },
      "execution_count": 65,
      "outputs": []
    },
    {
      "cell_type": "code",
      "source": [
        "(train_images, train_labels), (test_images, test_labels) = cifar100_data()\n",
        "model = cifar100_model()\n",
        "model = model_compile(model)\n",
        "\n",
        "model = model_fit(epochs=5, model=model, train_images=train_images, train_labels=train_labels)\n",
        "\n",
        "\n",
        "loss, acc = model_evaluate(model=model, test_images=test_images, test_labels=test_labels)\n",
        "\n",
        "loss, acc\n"
      ],
      "metadata": {
        "colab": {
          "base_uri": "https://localhost:8080/"
        },
        "id": "m5HxB2KErGg3",
        "outputId": "11646e58-b87b-4e09-88e9-d4ef6b22ca45"
      },
      "execution_count": 66,
      "outputs": [
        {
          "output_type": "stream",
          "name": "stdout",
          "text": [
            "Epoch 1/5\n",
            "1563/1563 [==============================] - 51s 32ms/step - loss: 4.0470 - accuracy: 0.0806\n",
            "Epoch 2/5\n",
            "1563/1563 [==============================] - 48s 31ms/step - loss: 3.5401 - accuracy: 0.1525\n",
            "Epoch 3/5\n",
            "1563/1563 [==============================] - 49s 31ms/step - loss: 3.3303 - accuracy: 0.1878\n",
            "Epoch 4/5\n",
            "1563/1563 [==============================] - 49s 32ms/step - loss: 3.2250 - accuracy: 0.2092\n",
            "Epoch 5/5\n",
            "1563/1563 [==============================] - 48s 30ms/step - loss: 3.1536 - accuracy: 0.2200\n"
          ]
        },
        {
          "output_type": "execute_result",
          "data": {
            "text/plain": [
              "(3.2093825340270996, 0.21770000457763672)"
            ]
          },
          "metadata": {},
          "execution_count": 66
        }
      ]
    },
    {
      "cell_type": "code",
      "source": [
        "test_image = test_images[2]\n",
        "\n",
        "import matplotlib.pyplot as plt\n",
        "\n",
        "plt.imshow(test_image)\n",
        "plt.show()\n",
        "\n",
        "\n",
        "\n",
        "test_image = test_image / 255.0\n",
        "\n",
        "# Make a prediction on the test image\n",
        "predictions = model.predict(np.array([test_image]))\n",
        "\n",
        "# Get the index of the highest probability class\n",
        "predicted_class = np.argmax(predictions)\n",
        "\n",
        "print(\"Predicted class:\", predicted_class)"
      ],
      "metadata": {
        "colab": {
          "base_uri": "https://localhost:8080/",
          "height": 465
        },
        "id": "6bVyVVMwUT-g",
        "outputId": "8821f309-07c7-4bf3-9f4c-9177ad1bbec0"
      },
      "execution_count": 75,
      "outputs": [
        {
          "output_type": "display_data",
          "data": {
            "text/plain": [
              "<Figure size 640x480 with 1 Axes>"
            ],
            "image/png": "[encoded data removed]"
          },
          "metadata": {}
        },
        {
          "output_type": "stream",
          "name": "stdout",
          "text": [
            "1/1 [==============================] - 0s 23ms/step\n",
            "Predicted class: 67\n"
          ]
        }
      ]
    }
  ],
  "metadata": {
    "kernelspec": {
      "display_name": "Python 3",
      "language": "python",
      "name": "python3"
    },
    "language_info": {
      "codemirror_mode": {
        "name": "ipython",
        "version": 3
      },
      "file_extension": ".py",
      "mimetype": "text/x-python",
      "name": "python",
      "nbconvert_exporter": "python",
      "pygments_lexer": "ipython3",
      "version": "3.10.6"
    },
    "orig_nbformat": 4,
    "colab": {
      "provenance": []
    }
  },
  "nbformat": 4,
  "nbformat_minor": 0
}