{
 "cells": [
  {
   "cell_type": "code",
   "execution_count": 37,
   "metadata": {},
   "outputs": [],
   "source": [
    "import numpy as np\n",
    "import matplotlib.pyplot as plt\n",
    "import pandas as pd\n",
    "\n",
    "from sklearn.datasets import load_iris\n",
    "from sklearn.model_selection import train_test_split\n",
    "from sklearn.linear_model import LinearRegression, LogisticRegression\n",
    "from sklearn.metrics import mean_squared_error"
   ]
  },
  {
   "cell_type": "code",
   "execution_count": 38,
   "metadata": {},
   "outputs": [
    {
     "data": {
      "text/plain": [
       "'\\nKészíts egy függvényt, betölti majd vissza adja az iris adathalmazt.\\n\\n\\nEgy példa a kimenetre: iris\\nreturn type: sklearn.utils.Bunch\\nfüggvény neve: load_iris_data\\n'"
      ]
     },
     "execution_count": 38,
     "metadata": {},
     "output_type": "execute_result"
    }
   ],
   "source": [
    "'''\n",
    "Készíts egy függvényt, betölti majd vissza adja az iris adathalmazt.\n",
    "\n",
    "\n",
    "Egy példa a kimenetre: iris\n",
    "return type: sklearn.utils.Bunch\n",
    "függvény neve: load_iris_data\n",
    "'''"
   ]
  },
  {
   "cell_type": "code",
   "execution_count": 39,
   "metadata": {},
   "outputs": [],
   "source": [
    "def load_iris_data() : #-> sklearn.utils.Bunch, -> sklearn.utils._bunch.Bunch\n",
    "    iris = load_iris()\n",
    "    return iris\n",
    "\n",
    "#iris_data = load_iris_data()\n",
    "#iris_data"
   ]
  },
  {
   "cell_type": "code",
   "execution_count": 40,
   "metadata": {},
   "outputs": [
    {
     "data": {
      "text/plain": [
       "'\\nKészíts egy függvényt, ami a betölti az virágokhoz tartozó levél méretket egy dataframebe, majd az első 5 sort visszaadja.\\nMinden oszlop tartalmazza, hogy az milyen mérethez tartozik.\\n\\nEgy példa a bemenetre: iris\\nEgy példa a kimenetre: iris_df\\nreturn type: pandas.core.frame.DataFrame\\nfüggvény neve: check_data\\n'"
      ]
     },
     "execution_count": 40,
     "metadata": {},
     "output_type": "execute_result"
    }
   ],
   "source": [
    "'''\n",
    "Készíts egy függvényt, ami a betölti az virágokhoz tartozó levél méretket egy dataframebe, majd az első 5 sort visszaadja.\n",
    "Minden oszlop tartalmazza, hogy az milyen mérethez tartozik.\n",
    "\n",
    "Egy példa a bemenetre: iris\n",
    "Egy példa a kimenetre: iris_df\n",
    "return type: pandas.core.frame.DataFrame\n",
    "függvény neve: check_data\n",
    "'''"
   ]
  },
  {
   "cell_type": "code",
   "execution_count": 41,
   "metadata": {},
   "outputs": [],
   "source": [
    "def check_data(iris)-> pd.core.frame.DataFrame:\n",
    "    df = pd.DataFrame(iris.data) #, columns=[iris['sepal length (cm)', 'sepal width (cm)']]\n",
    "    df.columns = iris.feature_names\n",
    "    return df.iloc[:, :2].head(5)\n",
    "\n",
    "#check_data(iris_data)"
   ]
  },
  {
   "cell_type": "code",
   "execution_count": 42,
   "metadata": {},
   "outputs": [
    {
     "data": {
      "text/plain": [
       "' \\nKészíts egy függvényt ami előkészíti az adatokat egy lineaáris regressziós model feltanításához.\\nFeaturejeink legyenek a levél méretek kivéve a \"sepal length (cm)\", ez legyen a targetünk.\\n\\nEgy példa a bemenetre: iris\\nEgy példa a kimenetre: X, y\\nreturn type: (numpy.ndarray, numpy.ndarray)\\nfüggvény neve: linear_train_data\\n'"
      ]
     },
     "execution_count": 42,
     "metadata": {},
     "output_type": "execute_result"
    }
   ],
   "source": [
    "''' \n",
    "Készíts egy függvényt ami előkészíti az adatokat egy lineaáris regressziós model feltanításához.\n",
    "Featurejeink legyenek a levél méretek kivéve a \"sepal length (cm)\", ez legyen a targetünk.\n",
    "\n",
    "Egy példa a bemenetre: iris\n",
    "Egy példa a kimenetre: X, y\n",
    "return type: (numpy.ndarray, numpy.ndarray)\n",
    "függvény neve: linear_train_data\n",
    "'''"
   ]
  },
  {
   "cell_type": "code",
   "execution_count": 65,
   "metadata": {},
   "outputs": [
    {
     "data": {
      "text/plain": [
       "array([5.1, 4.9, 4.7, 4.6, 5. , 5.4, 4.6, 5. , 4.4, 4.9, 5.4, 4.8, 4.8,\n",
       "       4.3, 5.8, 5.7, 5.4, 5.1, 5.7, 5.1, 5.4, 5.1, 4.6, 5.1, 4.8, 5. ,\n",
       "       5. , 5.2, 5.2, 4.7, 4.8, 5.4, 5.2, 5.5, 4.9, 5. , 5.5, 4.9, 4.4,\n",
       "       5.1, 5. , 4.5, 4.4, 5. , 5.1, 4.8, 5.1, 4.6, 5.3, 5. , 7. , 6.4,\n",
       "       6.9, 5.5, 6.5, 5.7, 6.3, 4.9, 6.6, 5.2, 5. , 5.9, 6. , 6.1, 5.6,\n",
       "       6.7, 5.6, 5.8, 6.2, 5.6, 5.9, 6.1, 6.3, 6.1, 6.4, 6.6, 6.8, 6.7,\n",
       "       6. , 5.7, 5.5, 5.5, 5.8, 6. , 5.4, 6. , 6.7, 6.3, 5.6, 5.5, 5.5,\n",
       "       6.1, 5.8, 5. , 5.6, 5.7, 5.7, 6.2, 5.1, 5.7, 6.3, 5.8, 7.1, 6.3,\n",
       "       6.5, 7.6, 4.9, 7.3, 6.7, 7.2, 6.5, 6.4, 6.8, 5.7, 5.8, 6.4, 6.5,\n",
       "       7.7, 7.7, 6. , 6.9, 5.6, 7.7, 6.3, 6.7, 7.2, 6.2, 6.1, 6.4, 7.2,\n",
       "       7.4, 7.9, 6.4, 6.3, 6.1, 7.7, 6.3, 6.4, 6. , 6.9, 6.7, 6.9, 5.8,\n",
       "       6.8, 6.7, 6.7, 6.3, 6.5, 6.2, 5.9])"
      ]
     },
     "execution_count": 65,
     "metadata": {},
     "output_type": "execute_result"
    }
   ],
   "source": [
    "def linear_train_data(input)-> (np.ndarray, np.ndarray):\n",
    "    df = pd.DataFrame(input.data) #, columns=[iris['sepal length (cm)', 'sepal width (cm)']]\n",
    "    df.columns = input.feature_names\n",
    "    df.drop(columns=['petal length (cm)', 'petal width (cm)'], inplace=True)\n",
    "    \n",
    "    #return (df.loc[:, 'petal length (cm)'], df.loc[:, 'petal width (cm)'])\n",
    "    #return (df.iloc[:, 0], df.iloc[:, 1])\n",
    "    return (df.iloc[:, 0].to_numpy(), df.iloc[:, 1].to_numpy())\n",
    "\n",
    "X, y = linear_train_data(load_iris_data())\n",
    "X"
   ]
  },
  {
   "cell_type": "code",
   "execution_count": null,
   "metadata": {},
   "outputs": [],
   "source": [
    "''' \n",
    "Készíts egy függvényt ami előkészíti az adatokat egy logisztikus regressziós model feltanításához.\n",
    "Featurejeink legyenek a levél méretek, targetünk pedig a 0, 1-es virág osztályok.\n",
    "Fontos csak azokkal az adatokkal tanítsunk amihez tartozik adott target. \n",
    "\n",
    "Egy példa a bemenetre: iris\n",
    "Egy példa a kimenetre: X, y\n",
    "return type: (numpy.ndarray, numpy.ndarray)\n",
    "függvény neve: logistic_train_data\n",
    "'''"
   ]
  },
  {
   "cell_type": "code",
   "execution_count": null,
   "metadata": {},
   "outputs": [],
   "source": []
  },
  {
   "cell_type": "code",
   "execution_count": null,
   "metadata": {},
   "outputs": [],
   "source": [
    "'''\n",
    "Készíts egy függvényt ami feldarabolja az adatainkat train és test részre. Az adatok 20%-át használjuk fel a teszteléshez.\n",
    "Tegyük determenisztikussá a darabolást, ennek értéke legyen 42.\n",
    "\n",
    "Egy példa a bemenetre: X, y\n",
    "Egy példa a kimenetre: X_train, X_test, y_train, y_test\n",
    "return type: (numpy.ndarray, numpy.ndarray, numpy.ndarray, numpy.ndarray)\n",
    "függvény neve: split_data\n",
    "'''"
   ]
  },
  {
   "cell_type": "code",
   "execution_count": null,
   "metadata": {},
   "outputs": [],
   "source": []
  },
  {
   "cell_type": "code",
   "execution_count": null,
   "metadata": {},
   "outputs": [],
   "source": [
    "'''\n",
    "Készíts egy függvényt ami feltanít egy lineaáris regressziós modelt, majd visszatér vele.\n",
    "\n",
    "Egy példa a bemenetre: X_train, y_train\n",
    "Egy példa a kimenetre: model\n",
    "return type: sklearn.linear_model._base.LinearRegression\n",
    "függvény neve: train_linear_regression\n",
    "'''"
   ]
  },
  {
   "cell_type": "code",
   "execution_count": null,
   "metadata": {},
   "outputs": [],
   "source": []
  },
  {
   "cell_type": "code",
   "execution_count": null,
   "metadata": {},
   "outputs": [],
   "source": [
    "'''\n",
    "Készíts egy függvényt ami feltanít egy logisztikus regressziós modelt, majd visszatér vele.\n",
    "\n",
    "Egy példa a bemenetre: X_train, y_train\n",
    "Egy példa a kimenetre: model\n",
    "return type: sklearn.linear_model._base.LogisticRegression\n",
    "függvény neve: train_logistic_regression\n",
    "'''"
   ]
  },
  {
   "cell_type": "code",
   "execution_count": null,
   "metadata": {},
   "outputs": [],
   "source": []
  },
  {
   "cell_type": "code",
   "execution_count": null,
   "metadata": {},
   "outputs": [],
   "source": [
    "''' \n",
    "Készíts egy függvényt, ami a feltanított modellel predikciót tud végre hajtani.\n",
    "\n",
    "Egy példa a bemenetre: model, X_test\n",
    "Egy példa a kimenetre: y_pred\n",
    "return type: numpy.ndarray\n",
    "függvény neve: predict\n",
    "'''"
   ]
  },
  {
   "cell_type": "code",
   "execution_count": null,
   "metadata": {},
   "outputs": [],
   "source": []
  },
  {
   "cell_type": "code",
   "execution_count": null,
   "metadata": {},
   "outputs": [],
   "source": [
    "'''\n",
    "Készíts egy függvényt, ami vizualizálni tudja a label és a predikciók közötti eltérést.\n",
    "Használj scatter plotot a diagram elkészítéséhez.\n",
    "\n",
    "Diagram címe legyen: 'Actual vs Predicted Target Values'\n",
    "Az x tengely címe legyen: 'Actual'\n",
    "Az y tengely címe legyen: 'Predicted'\n",
    "\n",
    "Egy példa a bemenetre: y_test, y_pred\n",
    "Egy példa a kimenetre: scatter plot\n",
    "return type: matplotlib.figure.Figure\n",
    "függvény neve: plot_actual_vs_predicted\n",
    "'''"
   ]
  },
  {
   "cell_type": "code",
   "execution_count": null,
   "metadata": {},
   "outputs": [],
   "source": []
  },
  {
   "cell_type": "code",
   "execution_count": null,
   "metadata": {},
   "outputs": [],
   "source": [
    "''' \n",
    "Készíts egy függvényt, ami a Négyzetes hiba (MSE) értékét számolja ki a predikciók és a valós értékek között.\n",
    "\n",
    "Egy példa a bemenetre: y_test, y_pred\n",
    "Egy példa a kimenetre: mse\n",
    "return type: float\n",
    "függvény neve: evaluate_model\n",
    "'''"
   ]
  },
  {
   "cell_type": "code",
   "execution_count": null,
   "metadata": {},
   "outputs": [],
   "source": []
  }
 ],
 "metadata": {
  "kernelspec": {
   "display_name": "Python 3",
   "language": "python",
   "name": "python3"
  },
  "language_info": {
   "codemirror_mode": {
    "name": "ipython",
    "version": 3
   },
   "file_extension": ".py",
   "mimetype": "text/x-python",
   "name": "python",
   "nbconvert_exporter": "python",
   "pygments_lexer": "ipython3",
   "version": "3.10.2"
  },
  "orig_nbformat": 4
 },
 "nbformat": 4,
 "nbformat_minor": 2
}
