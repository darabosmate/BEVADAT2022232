{
 "cells": [
  {
   "cell_type": "code",
   "execution_count": 47,
   "metadata": {},
   "outputs": [],
   "source": [
    "import numpy as np\n",
    "import matplotlib.pyplot as plt\n",
    "import pandas as pd\n",
    "\n",
    "from sklearn.datasets import load_iris\n",
    "from sklearn.model_selection import train_test_split\n",
    "from sklearn.linear_model import LinearRegression, LogisticRegression\n",
    "from sklearn.metrics import mean_squared_error\n",
    "\n",
    "from importlib import reload\n",
    "#from HAZI08 import *\n",
    "import HAZI08\n",
    "HAZI08 = reload(HAZI08)"
   ]
  },
  {
   "cell_type": "code",
   "execution_count": 48,
   "metadata": {},
   "outputs": [
    {
     "name": "stderr",
     "output_type": "stream",
     "text": [
      "c:\\Users\\darab\\AppData\\Local\\Programs\\Python\\Python39\\lib\\site-packages\\sklearn\\linear_model\\_logistic.py:458: ConvergenceWarning: lbfgs failed to converge (status=1):\n",
      "STOP: TOTAL NO. of ITERATIONS REACHED LIMIT.\n",
      "\n",
      "Increase the number of iterations (max_iter) or scale the data as shown in:\n",
      "    https://scikit-learn.org/stable/modules/preprocessing.html\n",
      "Please also refer to the documentation for alternative solver options:\n",
      "    https://scikit-learn.org/stable/modules/linear_model.html#logistic-regression\n",
      "  n_iter_i = _check_optimize_result(\n"
     ]
    },
    {
     "data": {
      "text/plain": [
       "(array([[5.1, 3.5, 1.4],\n",
       "        [4.9, 3. , 1.4],\n",
       "        [4.7, 3.2, 1.3],\n",
       "        [4.6, 3.1, 1.5],\n",
       "        [5. , 3.6, 1.4],\n",
       "        [5.4, 3.9, 1.7],\n",
       "        [4.6, 3.4, 1.4],\n",
       "        [5. , 3.4, 1.5],\n",
       "        [4.4, 2.9, 1.4],\n",
       "        [4.9, 3.1, 1.5],\n",
       "        [5.4, 3.7, 1.5],\n",
       "        [4.8, 3.4, 1.6],\n",
       "        [4.8, 3. , 1.4],\n",
       "        [4.3, 3. , 1.1],\n",
       "        [5.8, 4. , 1.2],\n",
       "        [5.7, 4.4, 1.5],\n",
       "        [5.4, 3.9, 1.3],\n",
       "        [5.1, 3.5, 1.4],\n",
       "        [5.7, 3.8, 1.7],\n",
       "        [5.1, 3.8, 1.5],\n",
       "        [5.4, 3.4, 1.7],\n",
       "        [5.1, 3.7, 1.5],\n",
       "        [4.6, 3.6, 1. ],\n",
       "        [5.1, 3.3, 1.7],\n",
       "        [4.8, 3.4, 1.9],\n",
       "        [5. , 3. , 1.6],\n",
       "        [5. , 3.4, 1.6],\n",
       "        [5.2, 3.5, 1.5],\n",
       "        [5.2, 3.4, 1.4],\n",
       "        [4.7, 3.2, 1.6],\n",
       "        [4.8, 3.1, 1.6],\n",
       "        [5.4, 3.4, 1.5],\n",
       "        [5.2, 4.1, 1.5],\n",
       "        [5.5, 4.2, 1.4],\n",
       "        [4.9, 3.1, 1.5],\n",
       "        [5. , 3.2, 1.2],\n",
       "        [5.5, 3.5, 1.3],\n",
       "        [4.9, 3.6, 1.4],\n",
       "        [4.4, 3. , 1.3],\n",
       "        [5.1, 3.4, 1.5],\n",
       "        [5. , 3.5, 1.3],\n",
       "        [4.5, 2.3, 1.3],\n",
       "        [4.4, 3.2, 1.3],\n",
       "        [5. , 3.5, 1.6],\n",
       "        [5.1, 3.8, 1.9],\n",
       "        [4.8, 3. , 1.4],\n",
       "        [5.1, 3.8, 1.6],\n",
       "        [4.6, 3.2, 1.4],\n",
       "        [5.3, 3.7, 1.5],\n",
       "        [5. , 3.3, 1.4],\n",
       "        [7. , 3.2, 4.7],\n",
       "        [6.4, 3.2, 4.5],\n",
       "        [6.9, 3.1, 4.9],\n",
       "        [5.5, 2.3, 4. ],\n",
       "        [6.5, 2.8, 4.6],\n",
       "        [5.7, 2.8, 4.5],\n",
       "        [6.3, 3.3, 4.7],\n",
       "        [4.9, 2.4, 3.3],\n",
       "        [6.6, 2.9, 4.6],\n",
       "        [5.2, 2.7, 3.9],\n",
       "        [5. , 2. , 3.5],\n",
       "        [5.9, 3. , 4.2],\n",
       "        [6. , 2.2, 4. ],\n",
       "        [6.1, 2.9, 4.7],\n",
       "        [5.6, 2.9, 3.6],\n",
       "        [6.7, 3.1, 4.4],\n",
       "        [5.6, 3. , 4.5],\n",
       "        [5.8, 2.7, 4.1],\n",
       "        [6.2, 2.2, 4.5],\n",
       "        [5.6, 2.5, 3.9],\n",
       "        [5.9, 3.2, 4.8],\n",
       "        [6.1, 2.8, 4. ],\n",
       "        [6.3, 2.5, 4.9],\n",
       "        [6.1, 2.8, 4.7],\n",
       "        [6.4, 2.9, 4.3],\n",
       "        [6.6, 3. , 4.4],\n",
       "        [6.8, 2.8, 4.8],\n",
       "        [6.7, 3. , 5. ],\n",
       "        [6. , 2.9, 4.5],\n",
       "        [5.7, 2.6, 3.5],\n",
       "        [5.5, 2.4, 3.8],\n",
       "        [5.5, 2.4, 3.7],\n",
       "        [5.8, 2.7, 3.9],\n",
       "        [6. , 2.7, 5.1],\n",
       "        [5.4, 3. , 4.5],\n",
       "        [6. , 3.4, 4.5],\n",
       "        [6.7, 3.1, 4.7],\n",
       "        [6.3, 2.3, 4.4],\n",
       "        [5.6, 3. , 4.1],\n",
       "        [5.5, 2.5, 4. ],\n",
       "        [5.5, 2.6, 4.4],\n",
       "        [6.1, 3. , 4.6],\n",
       "        [5.8, 2.6, 4. ],\n",
       "        [5. , 2.3, 3.3],\n",
       "        [5.6, 2.7, 4.2],\n",
       "        [5.7, 3. , 4.2],\n",
       "        [5.7, 2.9, 4.2],\n",
       "        [6.2, 2.9, 4.3],\n",
       "        [5.1, 2.5, 3. ],\n",
       "        [5.7, 2.8, 4.1],\n",
       "        [6.3, 3.3, 6. ],\n",
       "        [5.8, 2.7, 5.1],\n",
       "        [7.1, 3. , 5.9],\n",
       "        [6.3, 2.9, 5.6],\n",
       "        [6.5, 3. , 5.8],\n",
       "        [7.6, 3. , 6.6],\n",
       "        [4.9, 2.5, 4.5],\n",
       "        [7.3, 2.9, 6.3],\n",
       "        [6.7, 2.5, 5.8],\n",
       "        [7.2, 3.6, 6.1],\n",
       "        [6.5, 3.2, 5.1],\n",
       "        [6.4, 2.7, 5.3],\n",
       "        [6.8, 3. , 5.5],\n",
       "        [5.7, 2.5, 5. ],\n",
       "        [5.8, 2.8, 5.1],\n",
       "        [6.4, 3.2, 5.3],\n",
       "        [6.5, 3. , 5.5],\n",
       "        [7.7, 3.8, 6.7],\n",
       "        [7.7, 2.6, 6.9],\n",
       "        [6. , 2.2, 5. ],\n",
       "        [6.9, 3.2, 5.7],\n",
       "        [5.6, 2.8, 4.9],\n",
       "        [7.7, 2.8, 6.7],\n",
       "        [6.3, 2.7, 4.9],\n",
       "        [6.7, 3.3, 5.7],\n",
       "        [7.2, 3.2, 6. ],\n",
       "        [6.2, 2.8, 4.8],\n",
       "        [6.1, 3. , 4.9],\n",
       "        [6.4, 2.8, 5.6],\n",
       "        [7.2, 3. , 5.8],\n",
       "        [7.4, 2.8, 6.1],\n",
       "        [7.9, 3.8, 6.4],\n",
       "        [6.4, 2.8, 5.6],\n",
       "        [6.3, 2.8, 5.1],\n",
       "        [6.1, 2.6, 5.6],\n",
       "        [7.7, 3. , 6.1],\n",
       "        [6.3, 3.4, 5.6],\n",
       "        [6.4, 3.1, 5.5],\n",
       "        [6. , 3. , 4.8],\n",
       "        [6.9, 3.1, 5.4],\n",
       "        [6.7, 3.1, 5.6],\n",
       "        [6.9, 3.1, 5.1],\n",
       "        [5.8, 2.7, 5.1],\n",
       "        [6.8, 3.2, 5.9],\n",
       "        [6.7, 3.3, 5.7],\n",
       "        [6.7, 3. , 5.2],\n",
       "        [6.3, 2.5, 5. ],\n",
       "        [6.5, 3. , 5.2],\n",
       "        [6.2, 3.4, 5.4],\n",
       "        [5.9, 3. , 5.1]]),\n",
       " array([[0.2],\n",
       "        [0.2],\n",
       "        [0.2],\n",
       "        [0.2],\n",
       "        [0.2],\n",
       "        [0.4],\n",
       "        [0.3],\n",
       "        [0.2],\n",
       "        [0.2],\n",
       "        [0.1],\n",
       "        [0.2],\n",
       "        [0.2],\n",
       "        [0.1],\n",
       "        [0.1],\n",
       "        [0.2],\n",
       "        [0.4],\n",
       "        [0.4],\n",
       "        [0.3],\n",
       "        [0.3],\n",
       "        [0.3],\n",
       "        [0.2],\n",
       "        [0.4],\n",
       "        [0.2],\n",
       "        [0.5],\n",
       "        [0.2],\n",
       "        [0.2],\n",
       "        [0.4],\n",
       "        [0.2],\n",
       "        [0.2],\n",
       "        [0.2],\n",
       "        [0.2],\n",
       "        [0.4],\n",
       "        [0.1],\n",
       "        [0.2],\n",
       "        [0.2],\n",
       "        [0.2],\n",
       "        [0.2],\n",
       "        [0.1],\n",
       "        [0.2],\n",
       "        [0.2],\n",
       "        [0.3],\n",
       "        [0.3],\n",
       "        [0.2],\n",
       "        [0.6],\n",
       "        [0.4],\n",
       "        [0.3],\n",
       "        [0.2],\n",
       "        [0.2],\n",
       "        [0.2],\n",
       "        [0.2],\n",
       "        [1.4],\n",
       "        [1.5],\n",
       "        [1.5],\n",
       "        [1.3],\n",
       "        [1.5],\n",
       "        [1.3],\n",
       "        [1.6],\n",
       "        [1. ],\n",
       "        [1.3],\n",
       "        [1.4],\n",
       "        [1. ],\n",
       "        [1.5],\n",
       "        [1. ],\n",
       "        [1.4],\n",
       "        [1.3],\n",
       "        [1.4],\n",
       "        [1.5],\n",
       "        [1. ],\n",
       "        [1.5],\n",
       "        [1.1],\n",
       "        [1.8],\n",
       "        [1.3],\n",
       "        [1.5],\n",
       "        [1.2],\n",
       "        [1.3],\n",
       "        [1.4],\n",
       "        [1.4],\n",
       "        [1.7],\n",
       "        [1.5],\n",
       "        [1. ],\n",
       "        [1.1],\n",
       "        [1. ],\n",
       "        [1.2],\n",
       "        [1.6],\n",
       "        [1.5],\n",
       "        [1.6],\n",
       "        [1.5],\n",
       "        [1.3],\n",
       "        [1.3],\n",
       "        [1.3],\n",
       "        [1.2],\n",
       "        [1.4],\n",
       "        [1.2],\n",
       "        [1. ],\n",
       "        [1.3],\n",
       "        [1.2],\n",
       "        [1.3],\n",
       "        [1.3],\n",
       "        [1.1],\n",
       "        [1.3],\n",
       "        [2.5],\n",
       "        [1.9],\n",
       "        [2.1],\n",
       "        [1.8],\n",
       "        [2.2],\n",
       "        [2.1],\n",
       "        [1.7],\n",
       "        [1.8],\n",
       "        [1.8],\n",
       "        [2.5],\n",
       "        [2. ],\n",
       "        [1.9],\n",
       "        [2.1],\n",
       "        [2. ],\n",
       "        [2.4],\n",
       "        [2.3],\n",
       "        [1.8],\n",
       "        [2.2],\n",
       "        [2.3],\n",
       "        [1.5],\n",
       "        [2.3],\n",
       "        [2. ],\n",
       "        [2. ],\n",
       "        [1.8],\n",
       "        [2.1],\n",
       "        [1.8],\n",
       "        [1.8],\n",
       "        [1.8],\n",
       "        [2.1],\n",
       "        [1.6],\n",
       "        [1.9],\n",
       "        [2. ],\n",
       "        [2.2],\n",
       "        [1.5],\n",
       "        [1.4],\n",
       "        [2.3],\n",
       "        [2.4],\n",
       "        [1.8],\n",
       "        [1.8],\n",
       "        [2.1],\n",
       "        [2.4],\n",
       "        [2.3],\n",
       "        [1.9],\n",
       "        [2.3],\n",
       "        [2.5],\n",
       "        [2.3],\n",
       "        [1.9],\n",
       "        [2. ],\n",
       "        [2.3],\n",
       "        [1.8]]))"
      ]
     },
     "execution_count": 48,
     "metadata": {},
     "output_type": "execute_result"
    }
   ],
   "source": [
    "from importlib import reload\n",
    "#from HAZI08 import *\n",
    "import HAZI08\n",
    "HAZI08 = reload(HAZI08)\n",
    "\n",
    "X, y = load_iris(return_X_y=True)\n",
    "X_train, X_test, y_train, y_test = HAZI08.split_data(X, y)\n",
    "\n",
    "lin_model = HAZI08.train_linear_regression(X_train=X_train, y_train=y_train)\n",
    "log_model = HAZI08.train_logistic_regression(X_train=X_train, y_train=y_train)\n",
    "\n",
    "X, y = HAZI08.linear_train_data(load_iris_data())\n",
    "X, y"
   ]
  },
  {
   "cell_type": "code",
   "execution_count": 49,
   "metadata": {},
   "outputs": [
    {
     "data": {
      "text/plain": [
       "'\\nKészíts egy függvényt, betölti majd vissza adja az iris adathalmazt.\\n\\n\\nEgy példa a kimenetre: iris\\nreturn type: sklearn.utils.Bunch\\nfüggvény neve: load_iris_data\\n'"
      ]
     },
     "execution_count": 49,
     "metadata": {},
     "output_type": "execute_result"
    }
   ],
   "source": [
    "'''\n",
    "Készíts egy függvényt, betölti majd vissza adja az iris adathalmazt.\n",
    "\n",
    "\n",
    "Egy példa a kimenetre: iris\n",
    "return type: sklearn.utils.Bunch\n",
    "függvény neve: load_iris_data\n",
    "'''"
   ]
  },
  {
   "cell_type": "code",
   "execution_count": 50,
   "metadata": {},
   "outputs": [
    {
     "data": {
      "text/plain": [
       "'\\nKészíts egy függvényt, ami a betölti az virágokhoz tartozó levél méretket egy dataframebe, majd az első 5 sort visszaadja.\\nMinden oszlop tartalmazza, hogy az milyen mérethez tartozik.\\n\\nEgy példa a bemenetre: iris\\nEgy példa a kimenetre: iris_df\\nreturn type: pandas.core.frame.DataFrame\\nfüggvény neve: check_data\\n'"
      ]
     },
     "execution_count": 50,
     "metadata": {},
     "output_type": "execute_result"
    }
   ],
   "source": [
    "'''\n",
    "Készíts egy függvényt, ami a betölti az virágokhoz tartozó levél méretket egy dataframebe, majd az első 5 sort visszaadja.\n",
    "Minden oszlop tartalmazza, hogy az milyen mérethez tartozik.\n",
    "\n",
    "Egy példa a bemenetre: iris\n",
    "Egy példa a kimenetre: iris_df\n",
    "return type: pandas.core.frame.DataFrame\n",
    "függvény neve: check_data\n",
    "'''"
   ]
  },
  {
   "cell_type": "code",
   "execution_count": 51,
   "metadata": {},
   "outputs": [
    {
     "data": {
      "text/plain": [
       "' \\nKészíts egy függvényt ami előkészíti az adatokat egy lineaáris regressziós model feltanításához.\\nFeaturejeink legyenek a levél méretek kivéve a \"sepal length (cm)\", ez legyen a targetünk.\\n\\nEgy példa a bemenetre: iris\\nEgy példa a kimenetre: X, y\\nreturn type: (numpy.ndarray, numpy.ndarray)\\nfüggvény neve: linear_train_data\\n'"
      ]
     },
     "execution_count": 51,
     "metadata": {},
     "output_type": "execute_result"
    }
   ],
   "source": [
    "''' \n",
    "Készíts egy függvényt ami előkészíti az adatokat egy lineaáris regressziós model feltanításához.\n",
    "Featurejeink legyenek a levél méretek kivéve a \"sepal length (cm)\", ez legyen a targetünk.\n",
    "\n",
    "Egy példa a bemenetre: iris\n",
    "Egy példa a kimenetre: X, y\n",
    "return type: (numpy.ndarray, numpy.ndarray)\n",
    "függvény neve: linear_train_data\n",
    "'''"
   ]
  },
  {
   "cell_type": "code",
   "execution_count": 52,
   "metadata": {},
   "outputs": [
    {
     "data": {
      "text/plain": [
       "' \\nKészíts egy függvényt ami előkészíti az adatokat egy logisztikus regressziós model feltanításához.\\nFeaturejeink legyenek a levél méretek, targetünk pedig a 0, 1-es virág osztályok.\\nFontos csak azokkal az adatokkal tanítsunk amihez tartozik adott target. \\n\\nEgy példa a bemenetre: iris\\nEgy példa a kimenetre: X, y\\nreturn type: (numpy.ndarray, numpy.ndarray)\\nfüggvény neve: logistic_train_data\\n'"
      ]
     },
     "execution_count": 52,
     "metadata": {},
     "output_type": "execute_result"
    }
   ],
   "source": [
    "''' \n",
    "Készíts egy függvényt ami előkészíti az adatokat egy logisztikus regressziós model feltanításához.\n",
    "Featurejeink legyenek a levél méretek, targetünk pedig a 0, 1-es virág osztályok.\n",
    "Fontos csak azokkal az adatokkal tanítsunk amihez tartozik adott target. \n",
    "\n",
    "Egy példa a bemenetre: iris\n",
    "Egy példa a kimenetre: X, y\n",
    "return type: (numpy.ndarray, numpy.ndarray)\n",
    "függvény neve: logistic_train_data\n",
    "'''"
   ]
  },
  {
   "cell_type": "code",
   "execution_count": 53,
   "metadata": {},
   "outputs": [
    {
     "data": {
      "text/plain": [
       "'\\nKészíts egy függvényt ami feldarabolja az adatainkat train és test részre. Az adatok 20%-át használjuk fel a teszteléshez.\\nTegyük determenisztikussá a darabolást, ennek értéke legyen 42.\\n\\nEgy példa a bemenetre: X, y\\nEgy példa a kimenetre: X_train, X_test, y_train, y_test\\nreturn type: (numpy.ndarray, numpy.ndarray, numpy.ndarray, numpy.ndarray)\\nfüggvény neve: split_data\\n'"
      ]
     },
     "execution_count": 53,
     "metadata": {},
     "output_type": "execute_result"
    }
   ],
   "source": [
    "'''\n",
    "Készíts egy függvényt ami feldarabolja az adatainkat train és test részre. Az adatok 20%-át használjuk fel a teszteléshez.\n",
    "Tegyük determenisztikussá a darabolást, ennek értéke legyen 42.\n",
    "\n",
    "Egy példa a bemenetre: X, y\n",
    "Egy példa a kimenetre: X_train, X_test, y_train, y_test\n",
    "return type: (numpy.ndarray, numpy.ndarray, numpy.ndarray, numpy.ndarray)\n",
    "függvény neve: split_data\n",
    "'''"
   ]
  },
  {
   "cell_type": "code",
   "execution_count": 54,
   "metadata": {},
   "outputs": [
    {
     "data": {
      "text/plain": [
       "'\\nKészíts egy függvényt ami feltanít egy lineaáris regressziós modelt, majd visszatér vele.\\n\\nEgy példa a bemenetre: X_train, y_train\\nEgy példa a kimenetre: model\\nreturn type: sklearn.linear_model._base.LinearRegression\\nfüggvény neve: train_linear_regression\\n'"
      ]
     },
     "execution_count": 54,
     "metadata": {},
     "output_type": "execute_result"
    }
   ],
   "source": [
    "'''\n",
    "Készíts egy függvényt ami feltanít egy lineaáris regressziós modelt, majd visszatér vele.\n",
    "\n",
    "Egy példa a bemenetre: X_train, y_train\n",
    "Egy példa a kimenetre: model\n",
    "return type: sklearn.linear_model._base.LinearRegression\n",
    "függvény neve: train_linear_regression\n",
    "'''"
   ]
  },
  {
   "cell_type": "code",
   "execution_count": 55,
   "metadata": {},
   "outputs": [
    {
     "data": {
      "text/plain": [
       "'\\nKészíts egy függvényt ami feltanít egy logisztikus regressziós modelt, majd visszatér vele.\\n\\nEgy példa a bemenetre: X_train, y_train\\nEgy példa a kimenetre: model\\nreturn type: sklearn.linear_model._base.LogisticRegression\\nfüggvény neve: train_logistic_regression\\n'"
      ]
     },
     "execution_count": 55,
     "metadata": {},
     "output_type": "execute_result"
    }
   ],
   "source": [
    "'''\n",
    "Készíts egy függvényt ami feltanít egy logisztikus regressziós modelt, majd visszatér vele.\n",
    "\n",
    "Egy példa a bemenetre: X_train, y_train\n",
    "Egy példa a kimenetre: model\n",
    "return type: sklearn.linear_model._base.LogisticRegression\n",
    "függvény neve: train_logistic_regression\n",
    "'''"
   ]
  },
  {
   "cell_type": "code",
   "execution_count": 56,
   "metadata": {},
   "outputs": [
    {
     "data": {
      "text/plain": [
       "' \\nKészíts egy függvényt, ami a feltanított modellel predikciót tud végre hajtani.\\n\\nEgy példa a bemenetre: model, X_test\\nEgy példa a kimenetre: y_pred\\nreturn type: numpy.ndarray\\nfüggvény neve: predict\\n'"
      ]
     },
     "execution_count": 56,
     "metadata": {},
     "output_type": "execute_result"
    }
   ],
   "source": [
    "''' \n",
    "Készíts egy függvényt, ami a feltanított modellel predikciót tud végre hajtani.\n",
    "\n",
    "Egy példa a bemenetre: model, X_test\n",
    "Egy példa a kimenetre: y_pred\n",
    "return type: numpy.ndarray\n",
    "függvény neve: predict\n",
    "'''"
   ]
  },
  {
   "cell_type": "code",
   "execution_count": 57,
   "metadata": {},
   "outputs": [
    {
     "data": {
      "text/plain": [
       "\"\\nKészíts egy függvényt, ami vizualizálni tudja a label és a predikciók közötti eltérést.\\nHasználj scatter plotot a diagram elkészítéséhez.\\n\\nDiagram címe legyen: 'Actual vs Predicted Target Values'\\nAz x tengely címe legyen: 'Actual'\\nAz y tengely címe legyen: 'Predicted'\\n\\nEgy példa a bemenetre: y_test, y_pred\\nEgy példa a kimenetre: scatter plot\\nreturn type: matplotlib.figure.Figure\\nfüggvény neve: plot_actual_vs_predicted\\n\""
      ]
     },
     "execution_count": 57,
     "metadata": {},
     "output_type": "execute_result"
    }
   ],
   "source": [
    "'''\n",
    "Készíts egy függvényt, ami vizualizálni tudja a label és a predikciók közötti eltérést.\n",
    "Használj scatter plotot a diagram elkészítéséhez.\n",
    "\n",
    "Diagram címe legyen: 'Actual vs Predicted Target Values'\n",
    "Az x tengely címe legyen: 'Actual'\n",
    "Az y tengely címe legyen: 'Predicted'\n",
    "\n",
    "Egy példa a bemenetre: y_test, y_pred\n",
    "Egy példa a kimenetre: scatter plot\n",
    "return type: matplotlib.figure.Figure\n",
    "függvény neve: plot_actual_vs_predicted\n",
    "'''"
   ]
  },
  {
   "cell_type": "code",
   "execution_count": 58,
   "metadata": {},
   "outputs": [
    {
     "data": {
      "text/plain": [
       "' \\nKészíts egy függvényt, ami a Négyzetes hiba (MSE) értékét számolja ki a predikciók és a valós értékek között.\\n\\nEgy példa a bemenetre: y_test, y_pred\\nEgy példa a kimenetre: mse\\nreturn type: float\\nfüggvény neve: evaluate_model\\n'"
      ]
     },
     "execution_count": 58,
     "metadata": {},
     "output_type": "execute_result"
    }
   ],
   "source": [
    "''' \n",
    "Készíts egy függvényt, ami a Négyzetes hiba (MSE) értékét számolja ki a predikciók és a valós értékek között.\n",
    "\n",
    "Egy példa a bemenetre: y_test, y_pred\n",
    "Egy példa a kimenetre: mse\n",
    "return type: float\n",
    "függvény neve: evaluate_model\n",
    "'''"
   ]
  }
 ],
 "metadata": {
  "kernelspec": {
   "display_name": "Python 3",
   "language": "python",
   "name": "python3"
  },
  "language_info": {
   "codemirror_mode": {
    "name": "ipython",
    "version": 3
   },
   "file_extension": ".py",
   "mimetype": "text/x-python",
   "name": "python",
   "nbconvert_exporter": "python",
   "pygments_lexer": "ipython3",
   "version": "3.9.7"
  },
  "orig_nbformat": 4,
  "vscode": {
   "interpreter": {
    "hash": "b2532e59ff2e8459df16beaeea4e3a8d7ced2c67c8d1a79f857a2bc4535fba1f"
   }
  }
 },
 "nbformat": 4,
 "nbformat_minor": 2
}
