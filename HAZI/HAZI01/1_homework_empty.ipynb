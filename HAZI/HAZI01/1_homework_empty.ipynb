{
 "cells": [
  {
   "cell_type": "code",
   "execution_count": null,
   "metadata": {},
   "outputs": [],
   "source": [
    "#Create a function that returns with a subsest of a list.\n",
    "#The subset's starting and ending indexes should be set as input parameters (the list aswell).\n",
    "#return type: list\n",
    "#function name must be: subset\n",
    "#input parameters: input_list,start_index,end_index"
   ]
  },
  {
   "cell_type": "code",
   "execution_count": 23,
   "metadata": {},
   "outputs": [
    {
     "data": {
      "text/plain": [
       "[3, 4, 5]"
      ]
     },
     "execution_count": 23,
     "metadata": {},
     "output_type": "execute_result"
    }
   ],
   "source": [
    "def subset(input_list, start_index, end_index):\n",
    "    temp_list = []\n",
    "    for i in range(start_index, end_index):\n",
    "        temp_list.append(input_list[i])\n",
    "    return temp_list     #input_list[start_index:end_index] \n",
    "\n",
    "\n",
    "subset([1,2,3,4,5,6,7], 2, 5)"
   ]
  },
  {
   "cell_type": "code",
   "execution_count": null,
   "metadata": {},
   "outputs": [],
   "source": [
    "#Create a function that returns every nth element of a list.\n",
    "#return type: list\n",
    "#function name must be: every_nth\n",
    "#input parameters: input_list,step_size"
   ]
  },
  {
   "cell_type": "code",
   "execution_count": 24,
   "metadata": {},
   "outputs": [
    {
     "data": {
      "text/plain": [
       "[1, 7]"
      ]
     },
     "execution_count": 24,
     "metadata": {},
     "output_type": "execute_result"
    }
   ],
   "source": [
    "def every_nth(input_list, step_size):\n",
    "    temp_list = []\n",
    "    for i in range(0, len(input_list), step_size): #, step_size\n",
    "        temp_list.append(input_list[i])\n",
    "    return temp_list    \n",
    "\n",
    "#every_nth([1,2,3,4,5,6,7], 6)"
   ]
  },
  {
   "cell_type": "code",
   "execution_count": null,
   "metadata": {},
   "outputs": [],
   "source": [
    "#Create a function that can decide whether a list contains unique values or not\n",
    "#return type: bool\n",
    "#function name must be: unique\n",
    "#input parameters: input_list"
   ]
  },
  {
   "cell_type": "code",
   "execution_count": 25,
   "metadata": {},
   "outputs": [
    {
     "data": {
      "text/plain": [
       "True"
      ]
     },
     "execution_count": 25,
     "metadata": {},
     "output_type": "execute_result"
    }
   ],
   "source": [
    "def unique(input_list) -> bool:\n",
    "    flag = False\n",
    "    for i in input_list:\n",
    "        if (input_list.count(i) == 1):\n",
    "            flag = True\n",
    "            break\n",
    "\n",
    "    return flag\n",
    "\n",
    "unique([1,1,2,3,4,5])\n",
    "#unique([1,1,1,1,1])"
   ]
  },
  {
   "cell_type": "code",
   "execution_count": null,
   "metadata": {},
   "outputs": [],
   "source": [
    "#Create a function that can flatten a nested list ([[..],[..],..])\n",
    "#return type: list\n",
    "#fucntion name must be: flatten\n",
    "#input parameters: input_list"
   ]
  },
  {
   "cell_type": "code",
   "execution_count": 6,
   "metadata": {},
   "outputs": [
    {
     "data": {
      "text/plain": [
       "[1, 2, 3, 4, 5, 6, 7, 8, 9]"
      ]
     },
     "execution_count": 6,
     "metadata": {},
     "output_type": "execute_result"
    }
   ],
   "source": [
    "def flatten(input_list):\n",
    "    output_list = []\n",
    "    for i in input_list:\n",
    "        if  type(i) == list:\n",
    "            output_list = output_list + flatten(i)\n",
    "        else:\n",
    "            output_list.append(i)\n",
    "    \n",
    "    return output_list\n",
    "\n",
    "#flatten([1, [2, [3, 4], 5], 6, [7, 8, 9]])\n",
    "#flatten([1, [2, 3, 4, 5], 6, [7, 8, 9]])\n",
    "#flatten([1, 2, 3, 4, 5, 6, 7, 8, 9])"
   ]
  },
  {
   "cell_type": "code",
   "execution_count": null,
   "metadata": {},
   "outputs": [],
   "source": [
    "#Create a function that concatenates n lists\n",
    "#return type: list\n",
    "#function name must be: merge_lists\n",
    "#input parameters: *args\n"
   ]
  },
  {
   "cell_type": "code",
   "execution_count": 9,
   "metadata": {},
   "outputs": [
    {
     "data": {
      "text/plain": [
       "[1, 2, 3, 4, 5, 6]"
      ]
     },
     "execution_count": 9,
     "metadata": {},
     "output_type": "execute_result"
    }
   ],
   "source": [
    "def merge_lists(*args):\n",
    "    output_list = []\n",
    "    for i in args:\n",
    "        output_list += i\n",
    "    \n",
    "    return output_list\n",
    "\n",
    "merge_lists([1,2], [3,4], [5,6])"
   ]
  },
  {
   "cell_type": "code",
   "execution_count": null,
   "metadata": {},
   "outputs": [],
   "source": [
    "#Create a function that can reverse a list of tuples\n",
    "#example [(1,2),...] => [(2,1),...]\n",
    "#return type: list\n",
    "#fucntion name must be: reverse_tuples\n",
    "#input parameters: input_list"
   ]
  },
  {
   "cell_type": "code",
   "execution_count": 4,
   "metadata": {},
   "outputs": [
    {
     "data": {
      "text/plain": [
       "[(2, 1), (4, 3), (6, 5)]"
      ]
     },
     "execution_count": 4,
     "metadata": {},
     "output_type": "execute_result"
    }
   ],
   "source": [
    "def reverse_tuples(input_list):\n",
    "    output_list = []\n",
    "    for i in input_list:\n",
    "        output_list.append((i[1], i[0]))\n",
    "    \n",
    "    return output_list\n",
    "\n",
    "#reverse_tuples([(1,2), (3,4), (5,6)])\n"
   ]
  },
  {
   "cell_type": "code",
   "execution_count": null,
   "metadata": {},
   "outputs": [],
   "source": [
    "#Create a function that removes duplicates from a list\n",
    "#return type: list\n",
    "#fucntion name must be: remove_tuplicates\n",
    "#input parameters: input_list"
   ]
  },
  {
   "cell_type": "code",
   "execution_count": 5,
   "metadata": {},
   "outputs": [
    {
     "data": {
      "text/plain": [
       "[11, 2, 3, 4, 5, 6, 7, 8]"
      ]
     },
     "execution_count": 5,
     "metadata": {},
     "output_type": "execute_result"
    }
   ],
   "source": [
    "def remove_tuplicates(input_list):\n",
    "    output_list = []\n",
    "\n",
    "    for i in input_list:\n",
    "        if i not in output_list:\n",
    "            output_list.append(i)\n",
    "\n",
    "    return output_list\n",
    "\n",
    "remove_tuplicates([11,11,2,3,4,5,6,6,7,7,8])"
   ]
  },
  {
   "cell_type": "code",
   "execution_count": null,
   "metadata": {},
   "outputs": [],
   "source": [
    "#Create a function that transposes a nested list (matrix)\n",
    "#return type: list\n",
    "#function name must be: transpose\n",
    "#input parameters: input_list"
   ]
  },
  {
   "cell_type": "code",
   "execution_count": 39,
   "metadata": {},
   "outputs": [
    {
     "name": "stdout",
     "output_type": "stream",
     "text": [
      "[[1, 4, 7, 10], [2, 5, 8, 11], [3, 6, 9, 12]]\n"
     ]
    }
   ],
   "source": [
    "def transpose(input_list):\n",
    "    output_list = []\n",
    "    #elobb az oszlopokin iteralunk, belso cilkus a sor\n",
    "    for i in range(len(input_list[0])):\n",
    "        temp_list = []\n",
    "        for j in range(len(input_list)):\n",
    "            temp_list.append(input_list[j][i])\n",
    "        output_list.append(temp_list)\n",
    "    \n",
    "    return output_list\n",
    "\n",
    "print(transpose([[1,2,3], [4,5,6], [7,8,9], [10,11,12]]), sep=\"\\n\")\n",
    "\n"
   ]
  },
  {
   "cell_type": "code",
   "execution_count": null,
   "metadata": {},
   "outputs": [],
   "source": [
    "#Create a function that can split a nested list into chunks\n",
    "#chunk size is given by parameter\n",
    "#return type: list\n",
    "#function name must be: split_into_chunks\n",
    "#input parameters: input_list,chunk_size"
   ]
  },
  {
   "cell_type": "code",
   "execution_count": 21,
   "metadata": {},
   "outputs": [
    {
     "data": {
      "text/plain": [
       "[[1, 1, 1], [2, 2, 2], [3, 3, 3], [4, 4, 4], [5, 5, 5], [6, 6, 6], [7, 7]]"
      ]
     },
     "execution_count": 21,
     "metadata": {},
     "output_type": "execute_result"
    }
   ],
   "source": [
    "'''def split_into_chunks(input_list : list, chunk_size):\n",
    "    output_list = []\n",
    "    chunk_counter = 0\n",
    "    temp_list = []\n",
    "\n",
    "    for i in range(len(input_list)):\n",
    "        j = 0\n",
    "        while j < len(input_list[i]):\n",
    "            if len(temp_list) < chunk_size:\n",
    "                temp_list.append(input_list[i][j])\n",
    "            j += 1\n",
    "        output_list.append(temp_list)\n",
    "\n",
    "\n",
    "    return output_list\n",
    "\n",
    "split_into_chunks([[1,1],[1,2,2,2,3,3,3,4,4,4,5,5,5]], 3)'''\n",
    "\n",
    "\n",
    "def split_into_chunks(input_list : list, chunk_size):\n",
    "    output_list = []\n",
    "    flat_list = sum(input_list, [])\n",
    "\n",
    "    for i in range(0, len(flat_list), chunk_size):\n",
    "        temp_list = [x for x in flat_list[i:i+chunk_size]]\n",
    "        output_list.append(temp_list)\n",
    "\n",
    "    return output_list\n",
    "    \n",
    "\n",
    "\n",
    "\n",
    "split_into_chunks([[1,1],[1,2,2,2,3,3,3,4,4,4,5,5,5,6], [6,6,7,7]], 3)\n",
    "#TODO\n",
    "            "
   ]
  },
  {
   "cell_type": "code",
   "execution_count": null,
   "metadata": {},
   "outputs": [],
   "source": [
    "#Create a function that can merge n dictionaries\n",
    "#return type: dictionary\n",
    "#function name must be: merge_dicts\n",
    "#input parameters: *dict"
   ]
  },
  {
   "cell_type": "code",
   "execution_count": 10,
   "metadata": {},
   "outputs": [
    {
     "data": {
      "text/plain": [
       "{1: 'a', 2: 'b', 3: 'c', 4: 'd', 5: 'e'}"
      ]
     },
     "execution_count": 10,
     "metadata": {},
     "output_type": "execute_result"
    }
   ],
   "source": [
    "def merge_dicts(*input_dict : dict):\n",
    "    output_dict = {}\n",
    "    for i in input_dict:\n",
    "        output_dict.update(i)\n",
    "    \n",
    "    return output_dict\n",
    "\n",
    "merge_dicts({1:\"a\"}, {2:\"b\"}, {3:\"c\"}, {4:\"d\", 5:\"e\"})"
   ]
  },
  {
   "cell_type": "code",
   "execution_count": null,
   "metadata": {},
   "outputs": [],
   "source": [
    "#Create a function that receives a list of integers and sort them by parity\n",
    "#and returns with a dictionary like this: {\"even\":[...],\"odd\":[...]}\n",
    "#return type: dict\n",
    "#function name must be: by_parity\n",
    "#input parameters: input_list"
   ]
  },
  {
   "cell_type": "code",
   "execution_count": 13,
   "metadata": {},
   "outputs": [
    {
     "data": {
      "text/plain": [
       "{'even': [4, 6, 8], 'odd': [1, 1, 3, 5, 7, 9]}"
      ]
     },
     "execution_count": 13,
     "metadata": {},
     "output_type": "execute_result"
    }
   ],
   "source": [
    "def by_parity(input_list):\n",
    "    output_dict = {}\n",
    "    even = []\n",
    "    odd = []\n",
    "    for i in input_list:\n",
    "        if i % 2 == 0:\n",
    "            even.append(i)\n",
    "        elif i % 2 == 1:\n",
    "            odd.append(i)\n",
    "    output_dict[\"even\"] = even\n",
    "    output_dict[\"odd\"] = odd\n",
    "    return output_dict\n",
    "\n",
    "by_parity([1,1,3,4,5,6,7,8,9])"
   ]
  },
  {
   "cell_type": "code",
   "execution_count": null,
   "metadata": {},
   "outputs": [],
   "source": [
    "#Create a function that receives a dictionary like this: {\"some_key\":[1,2,3,4],\"another_key\":[1,2,3,4],....}\n",
    "#and return a dictionary like this : {\"some_key\":mean_of_values,\"another_key\":mean_of_values,....}\n",
    "#in short calculates the mean of the values key wise\n",
    "#return type: dict\n",
    "#function name must be: mean_key_value\n",
    "#input parameters: input_dict"
   ]
  },
  {
   "cell_type": "code",
   "execution_count": 16,
   "metadata": {},
   "outputs": [
    {
     "data": {
      "text/plain": [
       "{'a': 2.0, 'b': 5.0, 'c': 8.0}"
      ]
     },
     "execution_count": 16,
     "metadata": {},
     "output_type": "execute_result"
    }
   ],
   "source": [
    "def mean_key_value(input_dict : dict):\n",
    "    output_dict = {}\n",
    "    for key, value in input_dict.items():\n",
    "        output_dict[key] = sum(value) / len(value)\n",
    "\n",
    "    return output_dict\n",
    "\n",
    "mean_key_value({\"a\":[1,2,3], \"b\":[4,5,6], \"c\":[7,8,9]})"
   ]
  },
  {
   "cell_type": "code",
   "execution_count": null,
   "metadata": {},
   "outputs": [],
   "source": [
    "#If all the functions are created convert this notebook into a .py file and push to your repo"
   ]
  }
 ],
 "metadata": {
  "kernelspec": {
   "display_name": "Python 3",
   "language": "python",
   "name": "python3"
  },
  "language_info": {
   "codemirror_mode": {
    "name": "ipython",
    "version": 3
   },
   "file_extension": ".py",
   "mimetype": "text/x-python",
   "name": "python",
   "nbconvert_exporter": "python",
   "pygments_lexer": "ipython3",
   "version": "3.9.7"
  },
  "orig_nbformat": 4,
  "vscode": {
   "interpreter": {
    "hash": "b2532e59ff2e8459df16beaeea4e3a8d7ced2c67c8d1a79f857a2bc4535fba1f"
   }
  }
 },
 "nbformat": 4,
 "nbformat_minor": 2
}
