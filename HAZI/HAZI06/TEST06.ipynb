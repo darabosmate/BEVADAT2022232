{
 "cells": [
  {
   "cell_type": "code",
   "execution_count": 1,
   "metadata": {},
   "outputs": [
    {
     "ename": "AttributeError",
     "evalue": "'Series' object has no attribute 'datetime'",
     "output_type": "error",
     "traceback": [
      "\u001b[1;31m---------------------------------------------------------------------------\u001b[0m",
      "\u001b[1;31mAttributeError\u001b[0m                            Traceback (most recent call last)",
      "Cell \u001b[1;32mIn[1], line 4\u001b[0m\n\u001b[0;32m      1\u001b[0m \u001b[39mfrom\u001b[39;00m \u001b[39mNJCleaner\u001b[39;00m \u001b[39mimport\u001b[39;00m NJCleaner\n\u001b[0;32m      3\u001b[0m nj \u001b[39m=\u001b[39m NJCleaner(\u001b[39mr\u001b[39m\u001b[39m\"\u001b[39m\u001b[39mC:\u001b[39m\u001b[39m\\\u001b[39m\u001b[39mUsers\u001b[39m\u001b[39m\\\u001b[39m\u001b[39mdarab\u001b[39m\u001b[39m\\\u001b[39m\u001b[39msource\u001b[39m\u001b[39m\\\u001b[39m\u001b[39mrepos\u001b[39m\u001b[39m\\\u001b[39m\u001b[39mBEVADAT\u001b[39m\u001b[39m\\\u001b[39m\u001b[39mQYZF3M_BEVADAT2022232\u001b[39m\u001b[39m\\\u001b[39m\u001b[39mHAZI\u001b[39m\u001b[39m\\\u001b[39m\u001b[39mHAZI06\u001b[39m\u001b[39m\\\u001b[39m\u001b[39m2018_03.csv\u001b[39m\u001b[39m\"\u001b[39m)\n\u001b[1;32m----> 4\u001b[0m nj\u001b[39m.\u001b[39;49mconvert_date_to_day()\n",
      "File \u001b[1;32mc:\\Users\\darab\\source\\repos\\BEVADAT\\QYZF3M_BEVADAT2022232\\HAZI\\HAZI06\\NJCleaner.py:23\u001b[0m, in \u001b[0;36mNJCleaner.convert_date_to_day\u001b[1;34m(self)\u001b[0m\n\u001b[0;32m     21\u001b[0m \u001b[39mdef\u001b[39;00m \u001b[39mconvert_date_to_day\u001b[39m(\u001b[39mself\u001b[39m) \u001b[39m-\u001b[39m\u001b[39m>\u001b[39m pd\u001b[39m.\u001b[39mDataFrame():\n\u001b[0;32m     22\u001b[0m     df \u001b[39m=\u001b[39m \u001b[39mself\u001b[39m\u001b[39m.\u001b[39mdrop_columns_and_nan()\n\u001b[1;32m---> 23\u001b[0m     df[\u001b[39m'\u001b[39m\u001b[39mday\u001b[39m\u001b[39m'\u001b[39m] \u001b[39m=\u001b[39m df[\u001b[39m'\u001b[39;49m\u001b[39mdate\u001b[39;49m\u001b[39m'\u001b[39;49m]\u001b[39m.\u001b[39;49mdatetime\u001b[39m.\u001b[39mweekday()\n\u001b[0;32m     24\u001b[0m     \u001b[39mreturn\u001b[39;00m df\n",
      "File \u001b[1;32mc:\\Users\\darab\\AppData\\Local\\Programs\\Python\\Python39\\lib\\site-packages\\pandas\\core\\generic.py:5487\u001b[0m, in \u001b[0;36mNDFrame.__getattr__\u001b[1;34m(self, name)\u001b[0m\n\u001b[0;32m   5480\u001b[0m \u001b[39mif\u001b[39;00m (\n\u001b[0;32m   5481\u001b[0m     name \u001b[39mnot\u001b[39;00m \u001b[39min\u001b[39;00m \u001b[39mself\u001b[39m\u001b[39m.\u001b[39m_internal_names_set\n\u001b[0;32m   5482\u001b[0m     \u001b[39mand\u001b[39;00m name \u001b[39mnot\u001b[39;00m \u001b[39min\u001b[39;00m \u001b[39mself\u001b[39m\u001b[39m.\u001b[39m_metadata\n\u001b[0;32m   5483\u001b[0m     \u001b[39mand\u001b[39;00m name \u001b[39mnot\u001b[39;00m \u001b[39min\u001b[39;00m \u001b[39mself\u001b[39m\u001b[39m.\u001b[39m_accessors\n\u001b[0;32m   5484\u001b[0m     \u001b[39mand\u001b[39;00m \u001b[39mself\u001b[39m\u001b[39m.\u001b[39m_info_axis\u001b[39m.\u001b[39m_can_hold_identifiers_and_holds_name(name)\n\u001b[0;32m   5485\u001b[0m ):\n\u001b[0;32m   5486\u001b[0m     \u001b[39mreturn\u001b[39;00m \u001b[39mself\u001b[39m[name]\n\u001b[1;32m-> 5487\u001b[0m \u001b[39mreturn\u001b[39;00m \u001b[39mobject\u001b[39;49m\u001b[39m.\u001b[39;49m\u001b[39m__getattribute__\u001b[39;49m(\u001b[39mself\u001b[39;49m, name)\n",
      "\u001b[1;31mAttributeError\u001b[0m: 'Series' object has no attribute 'datetime'"
     ]
    }
   ],
   "source": [
    "from NJCleaner import NJCleaner\n",
    "\n",
    "nj = NJCleaner(r\"C:\\Users\\darab\\source\\repos\\BEVADAT\\QYZF3M_BEVADAT2022232\\HAZI\\HAZI06\\2018_03.csv\")\n",
    "nj.convert_date_to_day()\n"
   ]
  }
 ],
 "metadata": {
  "kernelspec": {
   "display_name": "Python 3",
   "language": "python",
   "name": "python3"
  },
  "language_info": {
   "codemirror_mode": {
    "name": "ipython",
    "version": 3
   },
   "file_extension": ".py",
   "mimetype": "text/x-python",
   "name": "python",
   "nbconvert_exporter": "python",
   "pygments_lexer": "ipython3",
   "version": "3.9.7"
  },
  "orig_nbformat": 4,
  "vscode": {
   "interpreter": {
    "hash": "b2532e59ff2e8459df16beaeea4e3a8d7ced2c67c8d1a79f857a2bc4535fba1f"
   }
  }
 },
 "nbformat": 4,
 "nbformat_minor": 2
}
