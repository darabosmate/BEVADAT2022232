{
 "cells": [
  {
   "cell_type": "code",
   "execution_count": 1,
   "metadata": {},
   "outputs": [],
   "source": [
    "from NJCleaner import NJCleaner\n",
    "\n",
    "nj = NJCleaner(r\"C:\\Users\\darab\\source\\repos\\BEVADAT\\QYZF3M_BEVADAT2022232\\HAZI\\HAZI06\\2018_03.csv\")\n",
    "\n",
    "#nj.order_by_scheduled_time()\n",
    "#nj.drop_columns_and_nan().head(50)\n",
    "#nj.convert_scheduled_time_to_part_of_the_day().iloc[:-1278, :]\n",
    "#nj.convert_delay()\n",
    "#nj.drop_unnecessary_columns()\n",
    "#nj.save_first_60k(r'C:\\Users\\darab\\source\\repos\\BEVADAT\\QYZF3M_BEVADAT2022232\\HAZI\\HAZI06\\testeset.csv')\n",
    "nj.prep_df('testeset.csv')\n"
   ]
  }
 ],
 "metadata": {
  "kernelspec": {
   "display_name": "Python 3",
   "language": "python",
   "name": "python3"
  },
  "language_info": {
   "codemirror_mode": {
    "name": "ipython",
    "version": 3
   },
   "file_extension": ".py",
   "mimetype": "text/x-python",
   "name": "python",
   "nbconvert_exporter": "python",
   "pygments_lexer": "ipython3",
   "version": "3.9.7"
  },
  "orig_nbformat": 4,
  "vscode": {
   "interpreter": {
    "hash": "b2532e59ff2e8459df16beaeea4e3a8d7ced2c67c8d1a79f857a2bc4535fba1f"
   }
  }
 },
 "nbformat": 4,
 "nbformat_minor": 2
}
