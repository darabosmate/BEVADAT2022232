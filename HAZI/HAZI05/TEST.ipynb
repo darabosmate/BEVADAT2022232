{
 "cells": [
  {
   "cell_type": "code",
   "execution_count": 1,
   "metadata": {},
   "outputs": [
    {
     "data": {
      "text/plain": [
       "'import numpy as np\\nimport seaborn as sns\\nfrom typing import Tuple\\nfrom scipy.stats import mode\\nfrom sklearn.metrics import confusion_matrix\\nimport pandas as pd\\nfrom HAZI05 import KNNClassifier'"
      ]
     },
     "execution_count": 1,
     "metadata": {},
     "output_type": "execute_result"
    }
   ],
   "source": [
    "\n",
    "'''import numpy as np\n",
    "import seaborn as sns\n",
    "from typing import Tuple\n",
    "from scipy.stats import mode\n",
    "from sklearn.metrics import confusion_matrix\n",
    "import pandas as pd\n",
    "from HAZI05 import KNNClassifier'''"
   ]
  },
  {
   "cell_type": "code",
   "execution_count": 2,
   "metadata": {},
   "outputs": [],
   "source": [
    "\n",
    "\n",
    "import numpy as np\n",
    "\n",
    "import seaborn as sns\n",
    "\n",
    "from typing import Tuple\n",
    "\n",
    "from scipy.stats import mode\n",
    "\n",
    "from sklearn.metrics import confusion_matrix\n",
    "import pandas as pd\n",
    "\n",
    "\n",
    "\n",
    "class KNNClassifier:\n",
    "\n",
    "\n",
    "    @property\n",
    "\n",
    "    def k_neighbors(self):\n",
    "\n",
    "        return self.k\n",
    "\n",
    "\n",
    "    def __init__(self, k: int, test_split_ratio: float) -> None:\n",
    "\n",
    "        self.k = k\n",
    "        self.test_split_ratio = test_split_ratio\n",
    "\n",
    "\n",
    "        self.x_test, self.y_test = None, None\n",
    "\n",
    "        self.x_train, self.y_train = None, None\n",
    "\n",
    "        self.y_preds = None\n",
    "\n",
    "\n",
    "    def train_test_split(self, features: pd.DataFrame, labels: pd.DataFrame) -> None:\n",
    "\n",
    "        test_size = int(features.shape[0] * self.test_split_ratio)\n",
    "\n",
    "        train_size = features.shape[0] - test_size\n",
    "\n",
    "        assert features.shape[0] == test_size + train_size, \"Size mismatch!\"\n",
    "\n",
    "\n",
    "        self.x_train, self.y_train = features.iloc[:train_size, :], labels.iloc[:train_size]\n",
    "\n",
    "        self.x_test, self.y_test = features.iloc[train_size:train_size+test_size, :].reset_index(drop=True), labels.iloc[train_size:train_size + test_size].reset_index(drop=True)\n",
    "\n",
    "\n",
    "    def euclidean(self, element_of_x: pd.DataFrame) -> pd.DataFrame:\n",
    "        \n",
    "        return pd.DataFrame(np.sqrt(((self.x_train - element_of_x)**2).sum(axis=1)))\n",
    "\n",
    "\n",
    "    def predict(self, x_test: pd.DataFrame) -> None:\n",
    "\n",
    "        labels_pred = []\n",
    "\n",
    "        for idx in range(len(x_test)):\n",
    "            a = x_test.iloc[[idx]]\n",
    "            distances = self.euclidean(x_test.iloc[[idx]])\n",
    "\n",
    "            distances = pd.DataFrame(sorted(zip(distances, self.y_train)))\n",
    "\n",
    "            label_pred = distances[:self.k, 1].mode()\n",
    "\n",
    "            labels_pred.append(label_pred)\n",
    "\n",
    "        self.y_preds = pd.DataFrame(labels_pred)\n",
    "\n",
    "\n",
    "    def accuracy(self) -> float:\n",
    "        true_positive = (self.y_test == pd.DataFrame(self.y_preds)).sum()\n",
    "\n",
    "        return true_positive / self.y_test.shape[0] * 100\n",
    "\n",
    "\n",
    "    def confusion_matrix(self):\n",
    "        conf_matrix = confusion_matrix(self.y_test, self.y_preds)\n",
    "\n",
    "        return conf_matrix\n",
    "\n",
    "\n",
    "    @staticmethod\n",
    "\n",
    "    def load_csv(csv_path: str) -> Tuple[pd.DataFrame, pd.DataFrame]:\n",
    "        df = pd.read_csv(csv_path)\n",
    "        df = df.sample(frac=1, random_state=42, ignore_index=True)\n",
    "        x_ = df.iloc[:, :8]\n",
    "        y_ = df[['Outcome']] #pd.DataFrame(df['Outcome']) dupla [[]] = dataframet ad vissza series helyett\n",
    "\n",
    "        return x_, y_"
   ]
  },
  {
   "cell_type": "code",
   "execution_count": 3,
   "metadata": {},
   "outputs": [
    {
     "ename": "KeyError",
     "evalue": "(slice(None, 3, None), 1)",
     "output_type": "error",
     "traceback": [
      "\u001b[1;31m---------------------------------------------------------------------------\u001b[0m",
      "\u001b[1;31mKeyError\u001b[0m                                  Traceback (most recent call last)",
      "Cell \u001b[1;32mIn[3], line 12\u001b[0m\n\u001b[0;32m      4\u001b[0m knn\u001b[39m.\u001b[39mtrain_test_split(x, y)\n\u001b[0;32m      6\u001b[0m \u001b[39m'''def euclidean(x_train, element_of_x: pd.DataFrame) -> pd.DataFrame:\u001b[39;00m\n\u001b[0;32m      7\u001b[0m \u001b[39m        temp = x_train - element_of_x\u001b[39;00m\n\u001b[0;32m      8\u001b[0m \u001b[39m        return np.sqrt(((x_train.values - element_of_x.values)**2).sum(axis=1))\u001b[39;00m\n\u001b[0;32m      9\u001b[0m \n\u001b[0;32m     10\u001b[0m \u001b[39meuclidean(knn.x_train, knn.x_test.iloc[0, :])'''\u001b[39;00m\n\u001b[1;32m---> 12\u001b[0m knn\u001b[39m.\u001b[39;49mpredict(knn\u001b[39m.\u001b[39;49mx_test)\n",
      "Cell \u001b[1;32mIn[2], line 66\u001b[0m, in \u001b[0;36mKNNClassifier.predict\u001b[1;34m(self, x_test)\u001b[0m\n\u001b[0;32m     62\u001b[0m     distances \u001b[39m=\u001b[39m \u001b[39mself\u001b[39m\u001b[39m.\u001b[39meuclidean(x_test\u001b[39m.\u001b[39miloc[[idx]])\n\u001b[0;32m     64\u001b[0m     distances \u001b[39m=\u001b[39m pd\u001b[39m.\u001b[39mDataFrame(\u001b[39msorted\u001b[39m(\u001b[39mzip\u001b[39m(distances, \u001b[39mself\u001b[39m\u001b[39m.\u001b[39my_train)))\n\u001b[1;32m---> 66\u001b[0m     label_pred \u001b[39m=\u001b[39m distances[:\u001b[39mself\u001b[39;49m\u001b[39m.\u001b[39;49mk, \u001b[39m1\u001b[39;49m]\u001b[39m.\u001b[39mmode()\n\u001b[0;32m     68\u001b[0m     labels_pred\u001b[39m.\u001b[39mappend(label_pred)\n\u001b[0;32m     70\u001b[0m \u001b[39mself\u001b[39m\u001b[39m.\u001b[39my_preds \u001b[39m=\u001b[39m pd\u001b[39m.\u001b[39mDataFrame(labels_pred)\n",
      "File \u001b[1;32mc:\\Users\\darab\\AppData\\Local\\Programs\\Python\\Python39\\lib\\site-packages\\pandas\\core\\frame.py:3458\u001b[0m, in \u001b[0;36mDataFrame.__getitem__\u001b[1;34m(self, key)\u001b[0m\n\u001b[0;32m   3456\u001b[0m \u001b[39mif\u001b[39;00m \u001b[39mself\u001b[39m\u001b[39m.\u001b[39mcolumns\u001b[39m.\u001b[39mnlevels \u001b[39m>\u001b[39m \u001b[39m1\u001b[39m:\n\u001b[0;32m   3457\u001b[0m     \u001b[39mreturn\u001b[39;00m \u001b[39mself\u001b[39m\u001b[39m.\u001b[39m_getitem_multilevel(key)\n\u001b[1;32m-> 3458\u001b[0m indexer \u001b[39m=\u001b[39m \u001b[39mself\u001b[39;49m\u001b[39m.\u001b[39;49mcolumns\u001b[39m.\u001b[39;49mget_loc(key)\n\u001b[0;32m   3459\u001b[0m \u001b[39mif\u001b[39;00m is_integer(indexer):\n\u001b[0;32m   3460\u001b[0m     indexer \u001b[39m=\u001b[39m [indexer]\n",
      "File \u001b[1;32mc:\\Users\\darab\\AppData\\Local\\Programs\\Python\\Python39\\lib\\site-packages\\pandas\\core\\indexes\\range.py:388\u001b[0m, in \u001b[0;36mRangeIndex.get_loc\u001b[1;34m(self, key, method, tolerance)\u001b[0m\n\u001b[0;32m    386\u001b[0m         \u001b[39mexcept\u001b[39;00m \u001b[39mValueError\u001b[39;00m \u001b[39mas\u001b[39;00m err:\n\u001b[0;32m    387\u001b[0m             \u001b[39mraise\u001b[39;00m \u001b[39mKeyError\u001b[39;00m(key) \u001b[39mfrom\u001b[39;00m \u001b[39merr\u001b[39;00m\n\u001b[1;32m--> 388\u001b[0m     \u001b[39mraise\u001b[39;00m \u001b[39mKeyError\u001b[39;00m(key)\n\u001b[0;32m    389\u001b[0m \u001b[39mreturn\u001b[39;00m \u001b[39msuper\u001b[39m()\u001b[39m.\u001b[39mget_loc(key, method\u001b[39m=\u001b[39mmethod, tolerance\u001b[39m=\u001b[39mtolerance)\n",
      "\u001b[1;31mKeyError\u001b[0m: (slice(None, 3, None), 1)"
     ]
    }
   ],
   "source": [
    "knn = KNNClassifier(3, 0.2)\n",
    "x, y = knn.load_csv(r'C:\\Users\\darab\\source\\repos\\BEVADAT\\QYZF3M_BEVADAT2022232\\HAZI\\HAZI05\\diabetes.csv')\n",
    "\n",
    "knn.train_test_split(x, y)\n",
    "\n",
    "'''def euclidean(x_train, element_of_x: pd.DataFrame) -> pd.DataFrame:\n",
    "        temp = x_train - element_of_x\n",
    "        return np.sqrt(((x_train.values - element_of_x.values)**2).sum(axis=1))\n",
    "\n",
    "euclidean(knn.x_train, knn.x_test.iloc[0, :])'''\n",
    "\n",
    "knn.predict(knn.x_test)\n"
   ]
  },
  {
   "cell_type": "code",
   "execution_count": null,
   "metadata": {},
   "outputs": [],
   "source": [
    "#knn.accuracy()"
   ]
  }
 ],
 "metadata": {
  "kernelspec": {
   "display_name": "Python 3",
   "language": "python",
   "name": "python3"
  },
  "language_info": {
   "codemirror_mode": {
    "name": "ipython",
    "version": 3
   },
   "file_extension": ".py",
   "mimetype": "text/x-python",
   "name": "python",
   "nbconvert_exporter": "python",
   "pygments_lexer": "ipython3",
   "version": "3.9.7"
  },
  "orig_nbformat": 4
 },
 "nbformat": 4,
 "nbformat_minor": 2
}
