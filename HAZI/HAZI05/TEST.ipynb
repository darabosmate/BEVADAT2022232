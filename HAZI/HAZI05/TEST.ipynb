{
 "cells": [
  {
   "cell_type": "code",
   "execution_count": 1,
   "metadata": {},
   "outputs": [
    {
     "data": {
      "text/plain": [
       "'import numpy as np\\nimport seaborn as sns\\nfrom typing import Tuple\\nfrom scipy.stats import mode\\nfrom sklearn.metrics import confusion_matrix\\nimport pandas as pd\\nfrom HAZI05 import KNNClassifier'"
      ]
     },
     "execution_count": 1,
     "metadata": {},
     "output_type": "execute_result"
    }
   ],
   "source": [
    "\n",
    "'''import numpy as np\n",
    "import seaborn as sns\n",
    "from typing import Tuple\n",
    "from scipy.stats import mode\n",
    "from sklearn.metrics import confusion_matrix\n",
    "import pandas as pd\n",
    "from HAZI05 import KNNClassifier'''"
   ]
  },
  {
   "cell_type": "code",
   "execution_count": 110,
   "metadata": {},
   "outputs": [],
   "source": [
    "\n",
    "\n",
    "import numpy as np\n",
    "\n",
    "import seaborn as sns\n",
    "\n",
    "from typing import Tuple\n",
    "\n",
    "from scipy.stats import mode\n",
    "\n",
    "from sklearn.metrics import confusion_matrix\n",
    "import pandas as pd\n",
    "\n",
    "\n",
    "class KNNClassifier:\n",
    "\n",
    "    @property\n",
    "    def k_neighbors(self):  # 1\n",
    "\n",
    "        return self.k\n",
    "\n",
    "    def __init__(self, k: int, test_split_ratio: float) -> None:\n",
    "\n",
    "        self.k = k\n",
    "        self.test_split_ratio = test_split_ratio\n",
    "\n",
    "        self.x_test, self.y_test = None, None\n",
    "\n",
    "        self.x_train, self.y_train = None, None\n",
    "\n",
    "        self.y_preds = None\n",
    "\n",
    "    def train_test_split(self, features: pd.DataFrame, labels: pd.Series) -> None:  # 3\n",
    "\n",
    "        test_size = int(features.shape[0] * self.test_split_ratio)\n",
    "\n",
    "        train_size = features.shape[0] - test_size\n",
    "\n",
    "        assert features.shape[0] == test_size + train_size, \"Size mismatch!\"\n",
    "\n",
    "        self.x_train  = features.iloc[:train_size, :].reset_index(drop=True)\n",
    "        self.y_train = labels.iloc[:train_size].reset_index(drop=True)\n",
    "\n",
    "        self.x_test = features.iloc[train_size:train_size + test_size, :].reset_index(drop=True)\n",
    "        self.y_test = labels.iloc[train_size:train_size + test_size].reset_index(drop=True)\n",
    "\n",
    "    def euclidean(self, element_of_x: pd.DataFrame) -> pd.DataFrame:  # 4\n",
    "\n",
    "        return np.sqrt(np.sum((self.x_train - element_of_x)**2, axis=1))\n",
    "\n",
    "\n",
    "    def predict(self,x_test:pd.DataFrame) -> pd.Series: #5\n",
    "        labels_pred = []\n",
    "        for idx, x_test_element in x_test.iterrows():\n",
    "            distances = self.euclidean(x_test_element)\n",
    "            distances = pd.concat([distances, self.y_train], axis=1).sort_values(by=0)\n",
    "            label_pred = mode(distances.iloc[:self.k,1],keepdims=False).mode\n",
    "            labels_pred.append(label_pred)\n",
    "        self.y_preds = pd.Series(labels_pred)\n",
    "\n",
    "    def accuracy(self) -> float:  # 6\n",
    "        #self.y_test, self.y_preds = self.y_test.align(self.y_preds, axis=1, copy=False)\n",
    "        #self.y_test.columns.name = None\n",
    "        true_positive = (self.y_test == self.y_preds).sum()\n",
    "\n",
    "        return true_positive / self.y_test.shape[0] * 100\n",
    "\n",
    "    def confusion_matrix(self):  # 7\n",
    "        conf_matrix = confusion_matrix(self.y_test, self.y_preds)\n",
    "\n",
    "        return conf_matrix\n",
    "\n",
    "    def best_k(self):\n",
    "        ret = tuple((1, -1))\n",
    "        og_k = self.k\n",
    "        for i in range(1, 21):\n",
    "            self.k = i\n",
    "            self.predict(self.x_test)\n",
    "            acc = round(self.accuracy(), 2)\n",
    "            if acc > ret[1]:\n",
    "                ret = (self.k, acc)\n",
    "        return ret\n",
    "\n",
    "    @staticmethod\n",
    "    def load_csv(csv_path: str) -> Tuple[pd.DataFrame, pd.Series]:  # 2\n",
    "        df = pd.read_csv(csv_path)\n",
    "        df = df.sample(frac=1, random_state=42, ignore_index=True)\n",
    "        x_ = df.iloc[:, :-1]\n",
    "        # pd.DataFrame(df['Outcome']) dupla [[]] = dataframet ad vissza series helyett\n",
    "        y_ = df.iloc[:, -1] #dataframe/series\n",
    "\n",
    "        return x_, y_\n"
   ]
  },
  {
   "cell_type": "code",
   "execution_count": 111,
   "metadata": {},
   "outputs": [],
   "source": [
    "knn = KNNClassifier(9, 0.2)\n",
    "x, y = knn.load_csv(r'C:\\Users\\darab\\source\\repos\\BEVADAT\\QYZF3M_BEVADAT2022232\\HAZI\\HAZI05\\diabetes.csv')\n",
    "knn.train_test_split(x, y)\n"
   ]
  },
  {
   "cell_type": "code",
   "execution_count": 112,
   "metadata": {},
   "outputs": [
    {
     "data": {
      "text/plain": [
       "(9, 75.16)"
      ]
     },
     "execution_count": 112,
     "metadata": {},
     "output_type": "execute_result"
    }
   ],
   "source": [
    "\n",
    "knn.predict(knn.x_test)\n",
    "knn.best_k()\n",
    "#knn.y_test\n",
    "\n",
    "#knn.accuracy()"
   ]
  },
  {
   "cell_type": "code",
   "execution_count": null,
   "metadata": {},
   "outputs": [
    {
     "data": {
      "text/html": [
       "<div>\n",
       "<style scoped>\n",
       "    .dataframe tbody tr th:only-of-type {\n",
       "        vertical-align: middle;\n",
       "    }\n",
       "\n",
       "    .dataframe tbody tr th {\n",
       "        vertical-align: top;\n",
       "    }\n",
       "\n",
       "    .dataframe thead th {\n",
       "        text-align: right;\n",
       "    }\n",
       "</style>\n",
       "<table border=\"1\" class=\"dataframe\">\n",
       "  <thead>\n",
       "    <tr style=\"text-align: right;\">\n",
       "      <th></th>\n",
       "      <th>0</th>\n",
       "    </tr>\n",
       "  </thead>\n",
       "  <tbody>\n",
       "    <tr>\n",
       "      <th>0</th>\n",
       "      <td>0.0</td>\n",
       "    </tr>\n",
       "    <tr>\n",
       "      <th>1</th>\n",
       "      <td>0.4</td>\n",
       "    </tr>\n",
       "    <tr>\n",
       "      <th>2</th>\n",
       "      <td>0.6</td>\n",
       "    </tr>\n",
       "    <tr>\n",
       "      <th>3</th>\n",
       "      <td>0.6</td>\n",
       "    </tr>\n",
       "    <tr>\n",
       "      <th>4</th>\n",
       "      <td>0.6</td>\n",
       "    </tr>\n",
       "    <tr>\n",
       "      <th>...</th>\n",
       "      <td>...</td>\n",
       "    </tr>\n",
       "    <tr>\n",
       "      <th>148</th>\n",
       "      <td>0.6</td>\n",
       "    </tr>\n",
       "    <tr>\n",
       "      <th>149</th>\n",
       "      <td>0.0</td>\n",
       "    </tr>\n",
       "    <tr>\n",
       "      <th>150</th>\n",
       "      <td>0.4</td>\n",
       "    </tr>\n",
       "    <tr>\n",
       "      <th>151</th>\n",
       "      <td>0.8</td>\n",
       "    </tr>\n",
       "    <tr>\n",
       "      <th>152</th>\n",
       "      <td>0.4</td>\n",
       "    </tr>\n",
       "  </tbody>\n",
       "</table>\n",
       "<p>153 rows × 1 columns</p>\n",
       "</div>"
      ],
      "text/plain": [
       "       0\n",
       "0    0.0\n",
       "1    0.4\n",
       "2    0.6\n",
       "3    0.6\n",
       "4    0.6\n",
       "..   ...\n",
       "148  0.6\n",
       "149  0.0\n",
       "150  0.4\n",
       "151  0.8\n",
       "152  0.4\n",
       "\n",
       "[153 rows x 1 columns]"
      ]
     },
     "execution_count": 20,
     "metadata": {},
     "output_type": "execute_result"
    }
   ],
   "source": [
    "from sklearn.neighbors import KNeighborsClassifier\n",
    "knn_n = KNeighborsRegressor(n_neighbors=5)\n",
    "knn_n.fit(knn.x_train, knn.y_train)\n",
    "# Make point predictions on the test set using the fit model.\n",
    "predictions = knn_n.predict(knn.x_test)\n",
    "pd.DataFrame(predictions)"
   ]
  },
  {
   "cell_type": "code",
   "execution_count": null,
   "metadata": {},
   "outputs": [
    {
     "data": {
      "text/plain": [
       "300"
      ]
     },
     "execution_count": 41,
     "metadata": {},
     "output_type": "execute_result"
    }
   ],
   "source": [
    "s = pd.Series([1, 2, 3])\n",
    "s.shape[0] * 100"
   ]
  }
 ],
 "metadata": {
  "kernelspec": {
   "display_name": "Python 3",
   "language": "python",
   "name": "python3"
  },
  "language_info": {
   "codemirror_mode": {
    "name": "ipython",
    "version": 3
   },
   "file_extension": ".py",
   "mimetype": "text/x-python",
   "name": "python",
   "nbconvert_exporter": "python",
   "pygments_lexer": "ipython3",
   "version": "3.9.7"
  },
  "orig_nbformat": 4,
  "vscode": {
   "interpreter": {
    "hash": "b2532e59ff2e8459df16beaeea4e3a8d7ced2c67c8d1a79f857a2bc4535fba1f"
   }
  }
 },
 "nbformat": 4,
 "nbformat_minor": 2
}
