{
 "cells": [
  {
   "cell_type": "code",
   "execution_count": 24,
   "metadata": {},
   "outputs": [],
   "source": [
    "\n",
    "import numpy as np\n",
    "import seaborn as sns\n",
    "from typing import Tuple\n",
    "from scipy.stats import mode\n",
    "from sklearn.metrics import confusion_matrix\n",
    "import pandas as pd"
   ]
  },
  {
   "cell_type": "code",
   "execution_count": 1,
   "metadata": {},
   "outputs": [],
   "source": [
    "\n",
    "\n",
    "import numpy as np\n",
    "\n",
    "import seaborn as sns\n",
    "\n",
    "from typing import Tuple\n",
    "\n",
    "from scipy.stats import mode\n",
    "\n",
    "from sklearn.metrics import confusion_matrix\n",
    "import pandas as pd\n",
    "\n",
    "\n",
    "\n",
    "class KNNClassifier:\n",
    "\n",
    "\n",
    "    @property\n",
    "\n",
    "    def k_neighbors(self):\n",
    "\n",
    "        return self.k\n",
    "\n",
    "\n",
    "    def __init__(self, k: int, test_split_ratio: float) -> None:\n",
    "\n",
    "        self.k = k\n",
    "        self.test_split_ratio = test_split_ratio\n",
    "\n",
    "\n",
    "        self.x_test, self.y_test = None, None\n",
    "\n",
    "        self.x_train, self.y_train = None, None\n",
    "\n",
    "        self.y_preds = None\n",
    "\n",
    "\n",
    "    def train_test_split(self, features: pd.DataFrame, labels: pd.DataFrame) -> None:\n",
    "\n",
    "        test_size = int(len(features) * self.test_split_ratio)\n",
    "\n",
    "        train_size = len(features) - test_size\n",
    "\n",
    "        assert len(features) == test_size + train_size, \"Size mismatch!\"\n",
    "\n",
    "\n",
    "        self.x_train, self.y_train = features[:train_size, :], labels[:train_size]\n",
    "\n",
    "        self.x_test, self.y_test = features[train_size:train_size+test_size, :], labels[train_size:train_size + test_size]\n",
    "\n",
    "\n",
    "    def euclidean(self, element_of_x: pd.DataFrame) -> pd.DataFrame:\n",
    "\n",
    "        return np.sqrt(np.sum((self.x_train - element_of_x)**2, axis=1))\n",
    "\n",
    "\n",
    "    def predict(self, x_test: pd.DataFrame) -> None:\n",
    "\n",
    "        labels_pred = []\n",
    "\n",
    "        for x_test_element in x_test:\n",
    "\n",
    "            distances = self.euclidean(x_test_element)\n",
    "\n",
    "            distances = np.array(sorted(zip(distances, self.y_train))) #######TODO\n",
    "\n",
    "            label_pred = mode(distances[:self.k, 1], keepdims=False).mode\n",
    "\n",
    "            labels_pred.append(label_pred)\n",
    "\n",
    "        self.y_preds = labels_pred\n",
    "\n",
    "\n",
    "    def accuracy(self) -> float:\n",
    "\n",
    "        true_positive = (self.y_test == self.y_preds).sum()\n",
    "\n",
    "        return true_positive / len(self.y_test) * 100\n",
    "\n",
    "\n",
    "    def confusion_matrix(self):\n",
    "\n",
    "        conf_matrix = confusion_matrix(self.y_test, self.y_preds)\n",
    "\n",
    "        #sns.heatmap(conf_matrix, annot=True)\n",
    "\n",
    "        return conf_matrix\n",
    "\n",
    "\n",
    "    @staticmethod\n",
    "\n",
    "    def load_csv(csv_path: str) -> Tuple[pd.DataFrame, pd.DataFrame]:\n",
    "        df = pd.read_csv(csv_path)\n",
    "        df.sample(random_state=42)\n",
    "        x_ = df['asdf']\n",
    "        x_ = df['Outcome']\n",
    "\n",
    "        return x_, y_"
   ]
  },
  {
   "cell_type": "code",
   "execution_count": 2,
   "metadata": {},
   "outputs": [
    {
     "ename": "KeyError",
     "evalue": "'asdf'",
     "output_type": "error",
     "traceback": [
      "\u001b[1;31m---------------------------------------------------------------------------\u001b[0m",
      "\u001b[1;31mKeyError\u001b[0m                                  Traceback (most recent call last)",
      "File \u001b[1;32mc:\\Users\\darab\\AppData\\Local\\Programs\\Python\\Python39\\lib\\site-packages\\pandas\\core\\indexes\\base.py:3361\u001b[0m, in \u001b[0;36mIndex.get_loc\u001b[1;34m(self, key, method, tolerance)\u001b[0m\n\u001b[0;32m   3360\u001b[0m \u001b[39mtry\u001b[39;00m:\n\u001b[1;32m-> 3361\u001b[0m     \u001b[39mreturn\u001b[39;00m \u001b[39mself\u001b[39;49m\u001b[39m.\u001b[39;49m_engine\u001b[39m.\u001b[39;49mget_loc(casted_key)\n\u001b[0;32m   3362\u001b[0m \u001b[39mexcept\u001b[39;00m \u001b[39mKeyError\u001b[39;00m \u001b[39mas\u001b[39;00m err:\n",
      "File \u001b[1;32mc:\\Users\\darab\\AppData\\Local\\Programs\\Python\\Python39\\lib\\site-packages\\pandas\\_libs\\index.pyx:76\u001b[0m, in \u001b[0;36mpandas._libs.index.IndexEngine.get_loc\u001b[1;34m()\u001b[0m\n",
      "File \u001b[1;32mc:\\Users\\darab\\AppData\\Local\\Programs\\Python\\Python39\\lib\\site-packages\\pandas\\_libs\\index.pyx:108\u001b[0m, in \u001b[0;36mpandas._libs.index.IndexEngine.get_loc\u001b[1;34m()\u001b[0m\n",
      "File \u001b[1;32mpandas\\_libs\\hashtable_class_helper.pxi:5198\u001b[0m, in \u001b[0;36mpandas._libs.hashtable.PyObjectHashTable.get_item\u001b[1;34m()\u001b[0m\n",
      "File \u001b[1;32mpandas\\_libs\\hashtable_class_helper.pxi:5206\u001b[0m, in \u001b[0;36mpandas._libs.hashtable.PyObjectHashTable.get_item\u001b[1;34m()\u001b[0m\n",
      "\u001b[1;31mKeyError\u001b[0m: 'asdf'",
      "\nThe above exception was the direct cause of the following exception:\n",
      "\u001b[1;31mKeyError\u001b[0m                                  Traceback (most recent call last)",
      "Cell \u001b[1;32mIn[2], line 2\u001b[0m\n\u001b[0;32m      1\u001b[0m knn \u001b[39m=\u001b[39m KNNClassifier(\u001b[39m3\u001b[39m, \u001b[39m0.5\u001b[39m)\n\u001b[1;32m----> 2\u001b[0m knn\u001b[39m.\u001b[39;49mload_csv(\u001b[39mr\u001b[39;49m\u001b[39m'\u001b[39;49m\u001b[39mC:\u001b[39;49m\u001b[39m\\\u001b[39;49m\u001b[39mUsers\u001b[39;49m\u001b[39m\\\u001b[39;49m\u001b[39mdarab\u001b[39;49m\u001b[39m\\\u001b[39;49m\u001b[39msource\u001b[39;49m\u001b[39m\\\u001b[39;49m\u001b[39mrepos\u001b[39;49m\u001b[39m\\\u001b[39;49m\u001b[39mBEVADAT\u001b[39;49m\u001b[39m\\\u001b[39;49m\u001b[39mQYZF3M_BEVADAT2022232\u001b[39;49m\u001b[39m\\\u001b[39;49m\u001b[39mHAZI\u001b[39;49m\u001b[39m\\\u001b[39;49m\u001b[39mHAZI05\u001b[39;49m\u001b[39m\\\u001b[39;49m\u001b[39mdiabetes.csv\u001b[39;49m\u001b[39m'\u001b[39;49m)\n",
      "Cell \u001b[1;32mIn[1], line 94\u001b[0m, in \u001b[0;36mKNNClassifier.load_csv\u001b[1;34m(csv_path)\u001b[0m\n\u001b[0;32m     92\u001b[0m df \u001b[39m=\u001b[39m pd\u001b[39m.\u001b[39mread_csv(csv_path)\n\u001b[0;32m     93\u001b[0m df\u001b[39m.\u001b[39msample(random_state\u001b[39m=\u001b[39m\u001b[39m42\u001b[39m)\n\u001b[1;32m---> 94\u001b[0m x_ \u001b[39m=\u001b[39m df[\u001b[39m'\u001b[39;49m\u001b[39masdf\u001b[39;49m\u001b[39m'\u001b[39;49m]\n\u001b[0;32m     95\u001b[0m x_ \u001b[39m=\u001b[39m df[\u001b[39m'\u001b[39m\u001b[39mOutcome\u001b[39m\u001b[39m'\u001b[39m]\n\u001b[0;32m     97\u001b[0m \u001b[39mreturn\u001b[39;00m x_, y_\n",
      "File \u001b[1;32mc:\\Users\\darab\\AppData\\Local\\Programs\\Python\\Python39\\lib\\site-packages\\pandas\\core\\frame.py:3458\u001b[0m, in \u001b[0;36mDataFrame.__getitem__\u001b[1;34m(self, key)\u001b[0m\n\u001b[0;32m   3456\u001b[0m \u001b[39mif\u001b[39;00m \u001b[39mself\u001b[39m\u001b[39m.\u001b[39mcolumns\u001b[39m.\u001b[39mnlevels \u001b[39m>\u001b[39m \u001b[39m1\u001b[39m:\n\u001b[0;32m   3457\u001b[0m     \u001b[39mreturn\u001b[39;00m \u001b[39mself\u001b[39m\u001b[39m.\u001b[39m_getitem_multilevel(key)\n\u001b[1;32m-> 3458\u001b[0m indexer \u001b[39m=\u001b[39m \u001b[39mself\u001b[39;49m\u001b[39m.\u001b[39;49mcolumns\u001b[39m.\u001b[39;49mget_loc(key)\n\u001b[0;32m   3459\u001b[0m \u001b[39mif\u001b[39;00m is_integer(indexer):\n\u001b[0;32m   3460\u001b[0m     indexer \u001b[39m=\u001b[39m [indexer]\n",
      "File \u001b[1;32mc:\\Users\\darab\\AppData\\Local\\Programs\\Python\\Python39\\lib\\site-packages\\pandas\\core\\indexes\\base.py:3363\u001b[0m, in \u001b[0;36mIndex.get_loc\u001b[1;34m(self, key, method, tolerance)\u001b[0m\n\u001b[0;32m   3361\u001b[0m         \u001b[39mreturn\u001b[39;00m \u001b[39mself\u001b[39m\u001b[39m.\u001b[39m_engine\u001b[39m.\u001b[39mget_loc(casted_key)\n\u001b[0;32m   3362\u001b[0m     \u001b[39mexcept\u001b[39;00m \u001b[39mKeyError\u001b[39;00m \u001b[39mas\u001b[39;00m err:\n\u001b[1;32m-> 3363\u001b[0m         \u001b[39mraise\u001b[39;00m \u001b[39mKeyError\u001b[39;00m(key) \u001b[39mfrom\u001b[39;00m \u001b[39merr\u001b[39;00m\n\u001b[0;32m   3365\u001b[0m \u001b[39mif\u001b[39;00m is_scalar(key) \u001b[39mand\u001b[39;00m isna(key) \u001b[39mand\u001b[39;00m \u001b[39mnot\u001b[39;00m \u001b[39mself\u001b[39m\u001b[39m.\u001b[39mhasnans:\n\u001b[0;32m   3366\u001b[0m     \u001b[39mraise\u001b[39;00m \u001b[39mKeyError\u001b[39;00m(key)\n",
      "\u001b[1;31mKeyError\u001b[0m: 'asdf'"
     ]
    }
   ],
   "source": [
    "knn = KNNClassifier(3, 0.5)\n",
    "knn.load_csv(r'C:\\Users\\darab\\source\\repos\\BEVADAT\\QYZF3M_BEVADAT2022232\\HAZI\\HAZI05\\diabetes.csv')"
   ]
  },
  {
   "cell_type": "code",
   "execution_count": null,
   "metadata": {},
   "outputs": [
    {
     "ename": "NameError",
     "evalue": "name 'x' is not defined",
     "output_type": "error",
     "traceback": [
      "\u001b[1;31m---------------------------------------------------------------------------\u001b[0m",
      "\u001b[1;31mNameError\u001b[0m                                 Traceback (most recent call last)",
      "Cell \u001b[1;32mIn[12], line 1\u001b[0m\n\u001b[1;32m----> 1\u001b[0m knn\u001b[39m.\u001b[39mtrain_test_split(x, y)\n\u001b[0;32m      2\u001b[0m knn\u001b[39m.\u001b[39mx_train\u001b[39m.\u001b[39mshape, knn\u001b[39m.\u001b[39mx_test\u001b[39m.\u001b[39mshape, knn\u001b[39m.\u001b[39my_train\u001b[39m.\u001b[39mshape, knn\u001b[39m.\u001b[39my_test\u001b[39m.\u001b[39mshape\n",
      "\u001b[1;31mNameError\u001b[0m: name 'x' is not defined"
     ]
    }
   ],
   "source": [
    "knn.train_test_split(x, y)\n",
    "knn.x_train.shape, knn.x_test.shape, knn.y_train.shape, knn.y_test.shape\n"
   ]
  },
  {
   "cell_type": "code",
   "execution_count": null,
   "metadata": {},
   "outputs": [],
   "source": [
    "knn.predict(knn.x_test)\n",
    "knn.y_preds"
   ]
  },
  {
   "cell_type": "code",
   "execution_count": null,
   "metadata": {},
   "outputs": [],
   "source": [
    "acc = knn.accuracy()\n",
    "acc"
   ]
  },
  {
   "cell_type": "code",
   "execution_count": null,
   "metadata": {},
   "outputs": [],
   "source": [
    "knn.confusion_matrix()"
   ]
  },
  {
   "cell_type": "code",
   "execution_count": null,
   "metadata": {},
   "outputs": [],
   "source": []
  }
 ],
 "metadata": {
  "kernelspec": {
   "display_name": "Python 3",
   "language": "python",
   "name": "python3"
  },
  "language_info": {
   "codemirror_mode": {
    "name": "ipython",
    "version": 3
   },
   "file_extension": ".py",
   "mimetype": "text/x-python",
   "name": "python",
   "nbconvert_exporter": "python",
   "pygments_lexer": "ipython3",
   "version": "3.9.7"
  },
  "orig_nbformat": 4
 },
 "nbformat": 4,
 "nbformat_minor": 2
}
