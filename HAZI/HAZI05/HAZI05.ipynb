{
 "cells": [
  {
   "cell_type": "code",
   "execution_count": null,
   "metadata": {},
   "outputs": [],
   "source": [
    "\n",
    "import numpy as np\n",
    "import seaborn as sns\n",
    "from typing import Tuple\n",
    "from scipy.stats import mode\n",
    "from sklearn.metrics import confusion_matrix\n",
    "import pandas as pd"
   ]
  },
  {
   "cell_type": "code",
   "execution_count": null,
   "metadata": {},
   "outputs": [],
   "source": [
    "\n",
    "import numpy as np\n",
    "import seaborn as sns\n",
    "from typing import Tuple\n",
    "from scipy.stats import mode\n",
    "from sklearn.metrics import confusion_matrix\n",
    "\n",
    "\n",
    "class KNNClassifier:\n",
    "\n",
    "    @property\n",
    "    def k_neighbors(self):\n",
    "        return self.k\n",
    "\n",
    "    def __init__(self, k: int, test_split_ratio: float) -> None:\n",
    "        self.k = k\n",
    "        self.test_split_ratio = test_split_ratio\n",
    "\n",
    "        self.x_test, self.y_test = None, None\n",
    "        self.x_train, self.y_train = None, None\n",
    "        self.y_preds = None\n",
    "\n",
    "    def train_test_split(self, features: np.ndarray, labels: np.ndarray) -> None:\n",
    "        test_size = int(len(features) * self.test_split_ratio)\n",
    "        train_size = len(features) - test_size\n",
    "        assert len(features) == test_size + train_size, \"Size mismatch!\"\n",
    "\n",
    "        self.x_train, self.y_train = features[:train_size, :], labels[:train_size]\n",
    "        self.x_test, self.y_test = features[train_size:train_size+test_size, :], labels[train_size:train_size + test_size]\n",
    "\n",
    "    def euclidean(self, element_of_x: np.ndarray) -> np.ndarray:\n",
    "        return np.sqrt(np.sum((self.x_train - element_of_x)**2, axis=1))\n",
    "\n",
    "    def predict(self, x_test: np.ndarray) -> None:\n",
    "        labels_pred = []\n",
    "        for x_test_element in x_test:\n",
    "            distances = self.euclidean(x_test_element)\n",
    "            distances = np.array(sorted(zip(distances, self.y_train)))\n",
    "            label_pred = mode(distances[:self.k, 1], keepdims=False).mode\n",
    "            labels_pred.append(label_pred)\n",
    "        self.y_preds = labels_pred\n",
    "\n",
    "    def accuracy(self) -> float:\n",
    "        true_positive = (self.y_test == self.y_preds).sum()\n",
    "        return true_positive / len(self.y_test) * 100\n",
    "\n",
    "    def confusion_matrix(self):\n",
    "        conf_matrix = confusion_matrix(self.y_test, self.y_preds)\n",
    "        #sns.heatmap(conf_matrix, annot=True)\n",
    "        return conf_matrix\n",
    "\n",
    "    @staticmethod\n",
    "    def load_csv(csv_path: str) -> Tuple[np.ndarray, np.ndarray]:\n",
    "        np.random.seed(42)\n",
    "        dataset = np.genfromtxt(csv_path, delimiter=',')\n",
    "        np.random.shuffle(dataset)\n",
    "        x_, y_ = dataset[:, :4], dataset[:, -1]\n",
    "        return x_, y_"
   ]
  },
  {
   "cell_type": "code",
   "execution_count": null,
   "metadata": {},
   "outputs": [],
   "source": [
    "knn = KNNClassifier(k=3, test_split_ratio=0.7)\n",
    "x, y = knn.load_csv(r\"C:\\Users\\darab\\source\\repos\\BEVADAT\\QYZF3M_BEVADAT2022232\\GYAK\\GYAK05\\iris.csv\")\n",
    "x[np.isnan(x)] = 3.5\n",
    "y = np.delete(y,np.where(x < 0.0)[0],axis=0)\n",
    "y = np.delete(y,np.where(x > 13.0)[0],axis=0)\n",
    "x = np.delete(x,np.where(x < 0.0)[0],axis=0)\n",
    "x = np.delete(x,np.where(x > 13.0)[0],axis=0)\n",
    "x, y"
   ]
  },
  {
   "cell_type": "code",
   "execution_count": null,
   "metadata": {},
   "outputs": [],
   "source": [
    "knn.train_test_split(x, y)\n",
    "knn.x_train.shape, knn.x_test.shape, knn.y_train.shape, knn.y_test.shape\n"
   ]
  },
  {
   "cell_type": "code",
   "execution_count": null,
   "metadata": {},
   "outputs": [],
   "source": [
    "knn.predict(knn.x_test)\n",
    "knn.y_preds"
   ]
  },
  {
   "cell_type": "code",
   "execution_count": null,
   "metadata": {},
   "outputs": [],
   "source": [
    "acc = knn.accuracy()\n",
    "acc"
   ]
  },
  {
   "cell_type": "code",
   "execution_count": null,
   "metadata": {},
   "outputs": [],
   "source": [
    "knn.confusion_matrix()"
   ]
  },
  {
   "cell_type": "code",
   "execution_count": null,
   "metadata": {},
   "outputs": [],
   "source": []
  }
 ],
 "metadata": {
  "kernelspec": {
   "display_name": "Python 3",
   "language": "python",
   "name": "python3"
  },
  "language_info": {
   "codemirror_mode": {
    "name": "ipython",
    "version": 3
   },
   "file_extension": ".py",
   "mimetype": "text/x-python",
   "name": "python",
   "nbconvert_exporter": "python",
   "pygments_lexer": "ipython3",
   "version": "3.9.7"
  },
  "orig_nbformat": 4
 },
 "nbformat": 4,
 "nbformat_minor": 2
}
