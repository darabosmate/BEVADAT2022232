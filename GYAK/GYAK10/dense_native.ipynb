{
  "cells": [
    {
      "cell_type": "code",
      "execution_count": 74,
      "metadata": {
        "id": "u2KPPpxIR68N"
      },
      "outputs": [],
      "source": [
        "import numpy as np"
      ]
    },
    {
      "cell_type": "code",
      "execution_count": 75,
      "metadata": {
        "id": "cCYB_GSWR68R"
      },
      "outputs": [],
      "source": [
        "class Dense:\n",
        "    \"\"\"A fully-connected NN layer.\n",
        "    Parameters:\n",
        "    -----------\n",
        "    n_output: int\n",
        "        The number of neurons in the layer.\n",
        "    n_input: int\n",
        "        The expected input shape of the layer. For dense layers a single digit specifying\n",
        "        the number of features of the input. Must be specified if it is the first layer in\n",
        "        the network.\n",
        "    \"\"\"\n",
        "\n",
        "    def __init__(self, n_output, n_input=None):\n",
        "        self.layer_input = None\n",
        "        self.n_input = n_input\n",
        "        self.n_output = n_output\n",
        "        self.trainable = True\n",
        "        self.W = None\n",
        "        self.bias = None\n",
        "        self.initialize()\n",
        "\n",
        "    def initialize(self):\n",
        "        # Initialize the weights\n",
        "        np.random.seed(42)\n",
        "        self.W = np.random.normal(0.0, 1, (self.n_input, self.n_output))\n",
        "        self.bias = np.random.random(size=(self.n_output))\n",
        "\n",
        "    '''def forward_pass_a(self, X):\n",
        "        output = np.zeros(3)\n",
        "        for row in range()\n",
        "        for i in range(self.n_output):\n",
        "            temp = 0\n",
        "            for j in range(self.n_output):\n",
        "                temp += X[j]*self.W[j, i]\n",
        "            output[i] = temp + self.bias[i]\n",
        "\n",
        "        return output'''\n",
        "\n",
        "    def forward_pass_a(self, X):\n",
        "        return X @ self.W + self.bias"
      ]
    },
    {
      "cell_type": "code",
      "execution_count": 76,
      "metadata": {
        "id": "yj1pUR1PR68S",
        "outputId": "4dfc2582-41f3-46c1-d4c5-5b2752b5fd8e"
      },
      "outputs": [
        {
          "name": "stdout",
          "output_type": "stream",
          "text": [
            "[1 2 3 4 5]\n",
            "[1 2 3 4 5]\n",
            "[ 12.27231674  -9.584845   -11.42437206]\n"
          ]
        }
      ],
      "source": [
        "input_data = np.array([[1, 2, 3, 4, 5]])\n",
        "input_data.resize((5,))\n",
        "print(input_data)\n",
        "#input_data = np.array([1, 2, 3, 4, 5])\n",
        "print(input_data)\n",
        "layer = Dense(3, n_input=5)\n",
        "\n",
        "output = layer.forward_pass_a(input_data)\n",
        "print(output)"
      ]
    },
    {
      "cell_type": "code",
      "execution_count": 77,
      "metadata": {
        "id": "aqkjwD_rR68S"
      },
      "outputs": [],
      "source": [
        "class ReLU():\n",
        "    def forward_pass(self, x):\n",
        "        return np.where(x >= 0, x, 0)"
      ]
    },
    {
      "cell_type": "code",
      "execution_count": 78,
      "metadata": {
        "id": "zAbc2UPqR68T",
        "outputId": "86c621e0-8ebb-40cd-c8c7-30b0ecbb8fab"
      },
      "outputs": [
        {
          "name": "stdout",
          "output_type": "stream",
          "text": [
            "[12.27231674  0.          0.        ]\n"
          ]
        }
      ],
      "source": [
        "activation = ReLU()\n",
        "print(activation.forward_pass(output))"
      ]
    },
    {
      "cell_type": "code",
      "execution_count": 79,
      "metadata": {},
      "outputs": [],
      "source": [
        "import GYAK10\n",
        "from importlib import reload\n",
        "GYAK10 = reload(GYAK10)\n",
        "from GYAK10 import Dense, ReLU\n",
        "\n"
      ]
    },
    {
      "cell_type": "code",
      "execution_count": 82,
      "metadata": {},
      "outputs": [
        {
          "name": "stdout",
          "output_type": "stream",
          "text": [
            "[1 2 3 4 5]\n",
            "[1 2 3 4 5]\n",
            "[ 12.27231674  -9.584845   -11.42437206]\n"
          ]
        }
      ],
      "source": [
        "input_data = np.array([[1, 2, 3, 4, 5]])\n",
        "input_data.resize((5,))\n",
        "print(input_data)\n",
        "#input_data = np.array([1, 2, 3, 4, 5])\n",
        "print(input_data)\n",
        "layer = GYAK10.Dense(3, n_input=5)\n",
        "\n",
        "output = layer.forward_pass_a(input_data)\n",
        "print(output)"
      ]
    },
    {
      "cell_type": "code",
      "execution_count": 81,
      "metadata": {},
      "outputs": [
        {
          "name": "stdout",
          "output_type": "stream",
          "text": [
            "[12.27231674  0.          0.        ]\n"
          ]
        }
      ],
      "source": [
        "activation = ReLU()\n",
        "print(activation.forward_pass(output))"
      ]
    }
  ],
  "metadata": {
    "colab": {
      "provenance": []
    },
    "kernelspec": {
      "display_name": "Python 3",
      "language": "python",
      "name": "python3"
    },
    "language_info": {
      "codemirror_mode": {
        "name": "ipython",
        "version": 3
      },
      "file_extension": ".py",
      "mimetype": "text/x-python",
      "name": "python",
      "nbconvert_exporter": "python",
      "pygments_lexer": "ipython3",
      "version": "3.9.7"
    },
    "orig_nbformat": 4,
    "vscode": {
      "interpreter": {
        "hash": "b2532e59ff2e8459df16beaeea4e3a8d7ced2c67c8d1a79f857a2bc4535fba1f"
      }
    }
  },
  "nbformat": 4,
  "nbformat_minor": 0
}
