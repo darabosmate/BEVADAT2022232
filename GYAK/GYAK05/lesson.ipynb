{
 "cells": [
  {
   "cell_type": "code",
   "execution_count": 1,
   "metadata": {},
   "outputs": [],
   "source": [
    "import numpy as np\n",
    "import seaborn as sns\n",
    "from typing import Tuple\n",
    "from scipy.stats import mode\n",
    "from sklearn.metrics import confusion_matrix\n",
    "\n",
    "\n",
    "csv_path = r\"C:\\Users\\darab\\source\\repos\\BEVADAT\\QYZF3M_BEVADAT2022232\\GYAK\\GYAK05\\iris.csv\""
   ]
  },
  {
   "attachments": {},
   "cell_type": "markdown",
   "metadata": {},
   "source": [
    "Load data and clean, try loading without shuffle"
   ]
  },
  {
   "cell_type": "code",
   "execution_count": 2,
   "metadata": {},
   "outputs": [],
   "source": [
    "def load_csv(csv_path:str) ->Tuple[np.ndarray,np.ndarray]:\n",
    "    np.random.seed(42)\n",
    "    dataset = np.genfromtxt(csv_path,delimiter=',')\n",
    "    np.random.shuffle(dataset,)\n",
    "    x,y = dataset[:,:4],dataset[:,-1]\n",
    "    return x,y"
   ]
  },
  {
   "cell_type": "code",
   "execution_count": 3,
   "metadata": {},
   "outputs": [
    {
     "data": {
      "text/plain": [
       "(array([[ 6.100e+00,  2.800e+00,  4.700e+00,  1.200e+00],\n",
       "        [ 5.700e+00,  3.800e+00,  1.700e+00,  3.000e-01],\n",
       "        [ 7.700e+00,  2.600e+00,  6.900e+00,  2.300e+00],\n",
       "        [ 6.000e+00,  2.900e+00,  4.500e+00,  1.500e+00],\n",
       "        [ 6.800e+00,  2.800e+00, -1.111e+03,  1.400e+00],\n",
       "        [ 5.400e+00,  3.400e+00,  1.500e+00,  4.000e-01],\n",
       "        [ 5.600e+00,  2.900e+00,  3.600e+00,  1.300e+00],\n",
       "        [ 6.900e+00,  3.100e+00,  5.100e+00,  2.300e+00],\n",
       "        [ 6.200e+00,  2.200e+00,  4.500e+00,  1.500e+00],\n",
       "        [ 5.800e+00,  2.700e+00,  3.900e+00,  1.200e+00],\n",
       "        [ 6.500e+00,  3.200e+00,  5.100e+00,  2.000e+00],\n",
       "        [ 4.800e+00,  3.000e+00,  1.400e+00,  1.000e-01],\n",
       "        [ 5.500e+00,  3.500e+00,        nan,  2.000e-01],\n",
       "        [ 4.900e+00,  3.100e+00,  1.500e+00,  1.000e-01],\n",
       "        [ 5.100e+00,  1.000e+02,  1.500e+00,  3.000e-01],\n",
       "        [ 6.300e+00,  3.300e+00,  4.700e+00,  1.600e+00],\n",
       "        [ 6.500e+00,  3.000e+00,  5.800e+00,  2.200e+00],\n",
       "        [ 5.600e+00,  2.500e+00,  3.900e+00,  1.100e+00],\n",
       "        [       nan,  2.800e+00,  4.500e+00,        nan],\n",
       "        [ 6.400e+00,        nan,  5.600e+00,  2.200e+00],\n",
       "        [ 4.700e+00,  3.200e+00,  1.600e+00,  2.000e-01],\n",
       "        [ 6.100e+00,  3.000e+00,  4.900e+00,  1.800e+00],\n",
       "        [ 5.000e+00,  3.400e+00,  1.600e+00,  4.000e-01],\n",
       "        [ 6.400e+00,  2.800e+00,  5.600e+00,  2.100e+00],\n",
       "        [ 7.900e+00,  3.800e+00,  6.400e+00,  2.000e+00],\n",
       "        [ 6.700e+00,  3.000e+00,  5.200e+00,  2.300e+00],\n",
       "        [ 6.700e+00,  2.500e+00,  5.800e+00,  1.800e+00],\n",
       "        [ 6.800e+00,  3.200e+00,  1.000e+03,  2.300e+00],\n",
       "        [ 5.000e+04,  3.000e+00,  1.400e+00,  3.000e-01],\n",
       "        [ 4.800e+00,  3.100e+00,  1.600e+00,  2.000e-01],\n",
       "        [ 4.600e+00,  3.600e+00,  1.000e+00,  2.000e-01],\n",
       "        [ 5.700e+00,  4.400e+00,  1.500e+00,  4.000e-01],\n",
       "        [ 6.700e+00,  3.100e+00,  4.400e+00,  1.400e+00],\n",
       "        [       nan,  3.400e+00,  1.600e+00,  2.000e-01],\n",
       "        [ 4.400e+00,  3.200e+00,  1.300e+00,  2.000e-01],\n",
       "        [ 6.300e+00,  2.500e+00,  5.000e+00,  1.900e+00],\n",
       "        [ 6.400e+00,  3.200e+00,  4.500e+00,  1.500e+00],\n",
       "        [ 5.200e+00,  3.500e+00,  1.500e+00,  2.000e-01],\n",
       "        [ 5.000e+00,  3.600e+00,  1.400e+00,  2.000e-01],\n",
       "        [ 5.200e+00,  4.100e+00,  1.500e+00,  1.000e-01],\n",
       "        [ 5.800e+00,  2.700e+00,  5.100e+00,  1.900e+00],\n",
       "        [ 6.000e+00,  3.400e+00,  4.500e+00,  1.600e+00],\n",
       "        [ 6.700e+00,  3.100e+00,  4.700e+00,  1.500e+00],\n",
       "        [ 5.400e+00,  3.900e+00,  1.300e+00,  4.000e-01],\n",
       "        [ 5.400e+00,  3.700e+00,  1.500e+00,  2.000e-01],\n",
       "        [ 5.500e+00,  2.400e+00,  3.700e+00,  1.000e+00],\n",
       "        [ 6.300e+00,  2.800e+00,  5.100e+00,  1.500e+00],\n",
       "        [ 6.400e+00,  3.100e+00,  5.500e+00,  1.800e+00],\n",
       "        [ 6.600e+00,  3.000e+00,  4.400e+00,  1.400e+00],\n",
       "        [ 7.200e+00,  3.600e+00,  6.100e+00,  2.500e+00],\n",
       "        [ 5.700e+00,  2.900e+00,  4.200e+00,  1.300e+00],\n",
       "        [ 7.600e+00,  3.000e+00,  6.600e+00,  2.100e+00],\n",
       "        [       nan,  3.000e+00,  4.500e+00,  1.500e+00],\n",
       "        [ 5.100e+00,  3.500e+00,  1.400e+00,  2.000e-01],\n",
       "        [ 7.700e+00,  2.800e+00,  6.700e+00,  2.000e+00],\n",
       "        [ 5.800e+00,  2.700e+00,  4.100e+00,  1.000e+00],\n",
       "        [ 5.200e+00,  3.400e+00,  1.400e+00,  2.000e-01],\n",
       "        [ 5.000e+00,  3.500e+00,  1.300e+00,  3.000e-01],\n",
       "        [ 5.100e+00,  3.800e+00,  1.900e+00,  4.000e-01],\n",
       "        [ 5.000e+00,  2.000e+00,  3.500e+00,  1.000e+00],\n",
       "        [ 6.300e+00,  2.700e+00,  4.900e+00,  1.800e+00],\n",
       "        [ 4.800e+00,  3.400e+00,  1.900e+00,  2.000e-01],\n",
       "        [ 5.000e+00,  3.000e+00,  1.600e+00,  3.000e+03],\n",
       "        [       nan,  3.300e+00,  1.700e+00,  5.000e-01],\n",
       "        [ 5.600e+00,  2.700e+00,        nan,  1.300e+00],\n",
       "        [ 5.100e+00,  3.400e+00,  1.500e+00,  2.000e-01],\n",
       "        [ 5.700e+00,  3.000e+00,  4.200e+00,  1.200e+00],\n",
       "        [ 7.700e+00,  3.800e+00,  6.700e+00,  2.200e+00],\n",
       "        [ 4.600e+00,  3.200e+00,  1.400e+00,  2.000e-01],\n",
       "        [ 6.200e+00,  2.900e+00,  4.300e+00,  1.300e+00],\n",
       "        [ 5.700e+00,  2.500e+00,  5.000e+00,  2.000e+00],\n",
       "        [ 5.500e+00,  4.200e+00,  1.400e+00,  2.000e-01],\n",
       "        [ 6.000e+00,  3.000e+00,  4.800e+00,        nan],\n",
       "        [ 5.800e+00,  2.700e+00,  5.100e+00,  1.900e+00],\n",
       "        [ 6.000e+00,  2.200e+00,  4.000e+00,  1.000e+00],\n",
       "        [ 5.400e+00,  3.000e+00,  4.500e+00,  1.500e+00],\n",
       "        [       nan,  3.400e+00,  5.400e+00,  2.300e+00],\n",
       "        [ 5.500e+00,  2.300e+00,  4.000e+00,  1.300e+00],\n",
       "        [ 5.400e+00,  3.900e+00,  1.700e+00,        nan],\n",
       "        [ 5.000e+00,  2.300e+00,  3.300e+00,  1.000e+00],\n",
       "        [ 6.400e+00,  2.700e+00,  5.300e+00,  1.900e+00],\n",
       "        [ 5.000e+00,  3.300e+00,  1.400e+00,  2.000e-01],\n",
       "        [ 5.000e+00,  3.200e+00,  1.200e+00,  2.000e-01],\n",
       "        [ 5.500e+00,  2.400e+00,  3.800e+00,  1.100e+00],\n",
       "        [ 6.700e+00,  3.000e+00,  5.000e+00,  1.700e+00],\n",
       "        [ 4.900e+00,  3.100e+00,  1.500e+00,  1.000e-01],\n",
       "        [ 5.800e+00,  2.800e+00,  5.100e+00,  2.400e+00],\n",
       "        [ 5.000e+00,  3.400e+00,  1.500e+00,  2.000e-01],\n",
       "        [ 5.000e+00,  3.500e+00,  1.600e+00,  6.000e-01],\n",
       "        [ 5.900e+00,  3.200e+00,  4.800e+00,  1.800e+00],\n",
       "        [ 5.100e+00,  2.500e+00,  3.000e+00,  1.100e+00],\n",
       "        [ 6.900e+00,  3.200e+00,  5.700e+00,  2.300e+00],\n",
       "        [ 6.000e+00,  2.700e+00,  5.100e+00,  1.600e+00],\n",
       "        [ 6.100e+00,  2.600e+00,  5.600e+00,  1.400e+00],\n",
       "        [ 7.700e+00,  3.000e+00,  6.100e+00,  2.300e+00],\n",
       "        [ 5.500e+00,  2.500e+00,  4.000e+00,  1.300e+00],\n",
       "        [ 4.400e+00,  2.900e+00,  1.400e+00,  2.000e-01],\n",
       "        [ 4.300e+00,  3.000e+00,  1.100e+00,  1.000e-01],\n",
       "        [ 6.000e+00,  2.200e+00,  5.000e+00,  1.500e+00],\n",
       "        [ 7.200e+00,  3.200e+00,  6.000e+00,  1.800e+00],\n",
       "        [ 4.600e+00,  3.100e+00,  1.500e+00,  2.000e-01],\n",
       "        [ 5.100e+00,  3.500e+00,  1.400e+00,  3.000e-01],\n",
       "        [ 4.400e+00,  3.000e+00,  1.300e+00,  2.000e-01],\n",
       "        [ 6.300e+00,  2.500e+00,  4.900e+00,  1.500e+00],\n",
       "        [ 6.300e+00,  3.400e+00,  5.600e+00,  2.400e+00],\n",
       "        [ 4.600e+00,  3.400e+00,  1.400e+00,  3.000e-01],\n",
       "        [ 6.800e+00,  3.000e+00,  5.500e+00,  2.100e+00],\n",
       "        [ 6.300e+00,  3.300e+00,  6.000e+00,  2.500e+00],\n",
       "        [ 4.700e+00,  3.200e+00,  1.300e+00,  2.000e-01],\n",
       "        [ 6.100e+00,  2.900e+00,  4.700e+00,  1.400e+00],\n",
       "        [ 6.500e+00,  2.800e+00,  4.600e+00,  1.500e+00],\n",
       "        [ 6.200e+00,  2.800e+00,  4.800e+00,  1.800e+00],\n",
       "        [ 7.000e+00,  3.200e+00,  4.700e+00,  1.400e+00],\n",
       "        [ 6.400e+00,  3.200e+00,  5.300e+00,  2.300e+00],\n",
       "        [ 5.100e+00,  3.800e+00,  1.600e+00,  2.000e-01],\n",
       "        [ 6.900e+00,  3.100e+00,  5.400e+00,  2.100e+00],\n",
       "        [ 5.900e+00,  3.000e+00,  4.200e+00,  1.500e+00],\n",
       "        [ 6.500e+00,  3.000e+00,  5.200e+00,  2.000e+00],\n",
       "        [ 5.700e+00,  2.600e+00,  3.500e+00,        nan],\n",
       "        [ 5.200e+00,  2.700e+00,  3.900e+00,  1.400e+00],\n",
       "        [       nan,  3.000e+00,  4.600e+00,  1.400e+00],\n",
       "        [ 4.500e+00,  2.300e+00,  1.300e+00,  3.000e-01],\n",
       "        [ 6.600e+00,  2.900e+00,  4.600e+00,  1.300e+00],\n",
       "        [ 5.500e+00,  2.600e+00,  4.400e+00,  1.200e+00],\n",
       "        [ 5.300e+00,  3.700e+00,  1.500e+00,  2.000e-01],\n",
       "        [ 5.600e+00,  3.000e+00,  4.100e+00,  1.300e+00],\n",
       "        [ 7.300e+00,  2.900e+00,  6.300e+00,  1.800e+00],\n",
       "        [ 6.700e+00,  3.300e+00,  5.700e+00,  2.100e+00],\n",
       "        [ 5.100e+00,  3.700e+00,  1.500e+00,  4.000e-01],\n",
       "        [ 4.900e+00,  2.400e+00,  3.300e+00,  1.000e+00],\n",
       "        [ 6.700e+00,  3.300e+00,  5.700e+00,  2.500e+00],\n",
       "        [ 7.200e+00,  3.000e+00,  5.800e+00,  1.600e+00],\n",
       "        [ 4.900e+00,  3.100e+00,  1.500e+00,  1.000e-01],\n",
       "        [       nan,  3.100e+00,  5.600e+00,  2.400e+00],\n",
       "        [ 4.900e+00,  3.000e+00,  1.400e+00,  2.000e-01],\n",
       "        [ 6.900e+00,  3.100e+00,  4.900e+00,  1.500e+00],\n",
       "        [ 7.400e+00,  2.800e+00,  6.100e+00,  1.900e+00],\n",
       "        [ 6.300e+00,  2.900e+00,  5.600e+00,  1.800e+00],\n",
       "        [ 5.700e+00,  2.800e+00,  4.100e+00,  1.300e+00],\n",
       "        [ 6.500e+00,  3.000e+00,  5.500e+00,  1.800e+00],\n",
       "        [ 6.300e+00, -4.200e+04,  4.400e+00,  1.300e+00],\n",
       "        [ 6.400e+00,  2.900e+00,  4.300e+00,  1.300e+00],\n",
       "        [ 5.600e+00,        nan,  4.900e+00,  2.000e+00],\n",
       "        [ 5.900e+00,  3.000e+00,  5.100e+00,  1.800e+00],\n",
       "        [ 5.400e+00,  3.400e+00,  1.700e+00,  2.000e-01],\n",
       "        [ 6.100e+00,  2.800e+00,  4.000e+00,  1.300e+00],\n",
       "        [ 4.900e+00,  2.500e+00,  4.500e+00,  1.700e+00],\n",
       "        [ 5.800e+00,  4.000e+00,  1.200e+00,  2.000e-01],\n",
       "        [ 5.800e+00,  2.600e+00,  4.000e+00,  1.200e+00],\n",
       "        [ 7.100e+00,  3.000e+00,  5.900e+00,  2.100e+00]]),\n",
       " array([1., 0., 2., 1., 1., 0., 1., 2., 1., 1., 2., 0., 0., 0., 0., 1., 2.,\n",
       "        1., 1., 2., 0., 2., 0., 2., 2., 2., 2., 2., 0., 0., 0., 0., 1., 0.,\n",
       "        0., 2., 1., 0., 0., 0., 2., 1., 1., 0., 0., 1., 2., 2., 1., 2., 1.,\n",
       "        2., 1., 0., 2., 1., 0., 0., 0., 1., 2., 0., 0., 0., 1., 0., 1., 2.,\n",
       "        0., 1., 2., 0., 2., 2., 1., 1., 2., 1., 0., 1., 2., 0., 0., 1., 1.,\n",
       "        0., 2., 0., 0., 1., 1., 2., 1., 2., 2., 1., 0., 0., 2., 2., 0., 0.,\n",
       "        0., 1., 2., 0., 2., 2., 0., 1., 1., 2., 1., 2., 0., 2., 1., 2., 1.,\n",
       "        1., 1., 0., 1., 1., 0., 1., 2., 2., 0., 1., 2., 2., 0., 2., 0., 1.,\n",
       "        2., 2., 1., 2., 1., 1., 2., 2., 0., 1., 2., 0., 1., 2.]))"
      ]
     },
     "execution_count": 3,
     "metadata": {},
     "output_type": "execute_result"
    }
   ],
   "source": [
    "x, y = load_csv(csv_path)\n",
    "x, y"
   ]
  },
  {
   "cell_type": "code",
   "execution_count": 4,
   "metadata": {},
   "outputs": [
    {
     "data": {
      "text/plain": [
       "(array([nan, nan, nan, nan]), array([nan, nan, nan, nan]))"
      ]
     },
     "execution_count": 4,
     "metadata": {},
     "output_type": "execute_result"
    }
   ],
   "source": [
    "np.mean(x,axis=0),np.var(x,axis=0)"
   ]
  },
  {
   "cell_type": "code",
   "execution_count": 5,
   "metadata": {},
   "outputs": [
    {
     "data": {
      "text/plain": [
       "(array([ 355.46503497, -280.09189189,    2.95      ,   21.74726027]),\n",
       " array([1.73561968e+07, 1.18405444e+07, 1.51049922e+04, 6.11729208e+04]))"
      ]
     },
     "execution_count": 5,
     "metadata": {},
     "output_type": "execute_result"
    }
   ],
   "source": [
    "np.nanmean(x,axis=0),np.nanvar(x,axis=0)"
   ]
  },
  {
   "cell_type": "code",
   "execution_count": 6,
   "metadata": {},
   "outputs": [
    {
     "name": "stdout",
     "output_type": "stream",
     "text": [
      "[[ 6.100e+00  2.800e+00  4.700e+00  1.200e+00]\n",
      " [ 5.700e+00  3.800e+00  1.700e+00  3.000e-01]\n",
      " [ 7.700e+00  2.600e+00  6.900e+00  2.300e+00]\n",
      " [ 6.000e+00  2.900e+00  4.500e+00  1.500e+00]\n",
      " [ 6.800e+00  2.800e+00 -1.111e+03  1.400e+00]\n",
      " [ 5.400e+00  3.400e+00  1.500e+00  4.000e-01]\n",
      " [ 5.600e+00  2.900e+00  3.600e+00  1.300e+00]\n",
      " [ 6.900e+00  3.100e+00  5.100e+00  2.300e+00]\n",
      " [ 6.200e+00  2.200e+00  4.500e+00  1.500e+00]\n",
      " [ 5.800e+00  2.700e+00  3.900e+00  1.200e+00]\n",
      " [ 6.500e+00  3.200e+00  5.100e+00  2.000e+00]\n",
      " [ 4.800e+00  3.000e+00  1.400e+00  1.000e-01]\n",
      " [ 5.500e+00  3.500e+00  3.500e+00  2.000e-01]\n",
      " [ 4.900e+00  3.100e+00  1.500e+00  1.000e-01]\n",
      " [ 5.100e+00  1.000e+02  1.500e+00  3.000e-01]\n",
      " [ 6.300e+00  3.300e+00  4.700e+00  1.600e+00]\n",
      " [ 6.500e+00  3.000e+00  5.800e+00  2.200e+00]\n",
      " [ 5.600e+00  2.500e+00  3.900e+00  1.100e+00]\n",
      " [ 3.500e+00  2.800e+00  4.500e+00  3.500e+00]\n",
      " [ 6.400e+00  3.500e+00  5.600e+00  2.200e+00]\n",
      " [ 4.700e+00  3.200e+00  1.600e+00  2.000e-01]\n",
      " [ 6.100e+00  3.000e+00  4.900e+00  1.800e+00]\n",
      " [ 5.000e+00  3.400e+00  1.600e+00  4.000e-01]\n",
      " [ 6.400e+00  2.800e+00  5.600e+00  2.100e+00]\n",
      " [ 7.900e+00  3.800e+00  6.400e+00  2.000e+00]\n",
      " [ 6.700e+00  3.000e+00  5.200e+00  2.300e+00]\n",
      " [ 6.700e+00  2.500e+00  5.800e+00  1.800e+00]\n",
      " [ 6.800e+00  3.200e+00  1.000e+03  2.300e+00]\n",
      " [ 5.000e+04  3.000e+00  1.400e+00  3.000e-01]\n",
      " [ 4.800e+00  3.100e+00  1.600e+00  2.000e-01]\n",
      " [ 4.600e+00  3.600e+00  1.000e+00  2.000e-01]\n",
      " [ 5.700e+00  4.400e+00  1.500e+00  4.000e-01]\n",
      " [ 6.700e+00  3.100e+00  4.400e+00  1.400e+00]\n",
      " [ 3.500e+00  3.400e+00  1.600e+00  2.000e-01]\n",
      " [ 4.400e+00  3.200e+00  1.300e+00  2.000e-01]\n",
      " [ 6.300e+00  2.500e+00  5.000e+00  1.900e+00]\n",
      " [ 6.400e+00  3.200e+00  4.500e+00  1.500e+00]\n",
      " [ 5.200e+00  3.500e+00  1.500e+00  2.000e-01]\n",
      " [ 5.000e+00  3.600e+00  1.400e+00  2.000e-01]\n",
      " [ 5.200e+00  4.100e+00  1.500e+00  1.000e-01]\n",
      " [ 5.800e+00  2.700e+00  5.100e+00  1.900e+00]\n",
      " [ 6.000e+00  3.400e+00  4.500e+00  1.600e+00]\n",
      " [ 6.700e+00  3.100e+00  4.700e+00  1.500e+00]\n",
      " [ 5.400e+00  3.900e+00  1.300e+00  4.000e-01]\n",
      " [ 5.400e+00  3.700e+00  1.500e+00  2.000e-01]\n",
      " [ 5.500e+00  2.400e+00  3.700e+00  1.000e+00]\n",
      " [ 6.300e+00  2.800e+00  5.100e+00  1.500e+00]\n",
      " [ 6.400e+00  3.100e+00  5.500e+00  1.800e+00]\n",
      " [ 6.600e+00  3.000e+00  4.400e+00  1.400e+00]\n",
      " [ 7.200e+00  3.600e+00  6.100e+00  2.500e+00]\n",
      " [ 5.700e+00  2.900e+00  4.200e+00  1.300e+00]\n",
      " [ 7.600e+00  3.000e+00  6.600e+00  2.100e+00]\n",
      " [ 3.500e+00  3.000e+00  4.500e+00  1.500e+00]\n",
      " [ 5.100e+00  3.500e+00  1.400e+00  2.000e-01]\n",
      " [ 7.700e+00  2.800e+00  6.700e+00  2.000e+00]\n",
      " [ 5.800e+00  2.700e+00  4.100e+00  1.000e+00]\n",
      " [ 5.200e+00  3.400e+00  1.400e+00  2.000e-01]\n",
      " [ 5.000e+00  3.500e+00  1.300e+00  3.000e-01]\n",
      " [ 5.100e+00  3.800e+00  1.900e+00  4.000e-01]\n",
      " [ 5.000e+00  2.000e+00  3.500e+00  1.000e+00]\n",
      " [ 6.300e+00  2.700e+00  4.900e+00  1.800e+00]\n",
      " [ 4.800e+00  3.400e+00  1.900e+00  2.000e-01]\n",
      " [ 5.000e+00  3.000e+00  1.600e+00  3.000e+03]\n",
      " [ 3.500e+00  3.300e+00  1.700e+00  5.000e-01]\n",
      " [ 5.600e+00  2.700e+00  3.500e+00  1.300e+00]\n",
      " [ 5.100e+00  3.400e+00  1.500e+00  2.000e-01]\n",
      " [ 5.700e+00  3.000e+00  4.200e+00  1.200e+00]\n",
      " [ 7.700e+00  3.800e+00  6.700e+00  2.200e+00]\n",
      " [ 4.600e+00  3.200e+00  1.400e+00  2.000e-01]\n",
      " [ 6.200e+00  2.900e+00  4.300e+00  1.300e+00]\n",
      " [ 5.700e+00  2.500e+00  5.000e+00  2.000e+00]\n",
      " [ 5.500e+00  4.200e+00  1.400e+00  2.000e-01]\n",
      " [ 6.000e+00  3.000e+00  4.800e+00  3.500e+00]\n",
      " [ 5.800e+00  2.700e+00  5.100e+00  1.900e+00]\n",
      " [ 6.000e+00  2.200e+00  4.000e+00  1.000e+00]\n",
      " [ 5.400e+00  3.000e+00  4.500e+00  1.500e+00]\n",
      " [ 3.500e+00  3.400e+00  5.400e+00  2.300e+00]\n",
      " [ 5.500e+00  2.300e+00  4.000e+00  1.300e+00]\n",
      " [ 5.400e+00  3.900e+00  1.700e+00  3.500e+00]\n",
      " [ 5.000e+00  2.300e+00  3.300e+00  1.000e+00]\n",
      " [ 6.400e+00  2.700e+00  5.300e+00  1.900e+00]\n",
      " [ 5.000e+00  3.300e+00  1.400e+00  2.000e-01]\n",
      " [ 5.000e+00  3.200e+00  1.200e+00  2.000e-01]\n",
      " [ 5.500e+00  2.400e+00  3.800e+00  1.100e+00]\n",
      " [ 6.700e+00  3.000e+00  5.000e+00  1.700e+00]\n",
      " [ 4.900e+00  3.100e+00  1.500e+00  1.000e-01]\n",
      " [ 5.800e+00  2.800e+00  5.100e+00  2.400e+00]\n",
      " [ 5.000e+00  3.400e+00  1.500e+00  2.000e-01]\n",
      " [ 5.000e+00  3.500e+00  1.600e+00  6.000e-01]\n",
      " [ 5.900e+00  3.200e+00  4.800e+00  1.800e+00]\n",
      " [ 5.100e+00  2.500e+00  3.000e+00  1.100e+00]\n",
      " [ 6.900e+00  3.200e+00  5.700e+00  2.300e+00]\n",
      " [ 6.000e+00  2.700e+00  5.100e+00  1.600e+00]\n",
      " [ 6.100e+00  2.600e+00  5.600e+00  1.400e+00]\n",
      " [ 7.700e+00  3.000e+00  6.100e+00  2.300e+00]\n",
      " [ 5.500e+00  2.500e+00  4.000e+00  1.300e+00]\n",
      " [ 4.400e+00  2.900e+00  1.400e+00  2.000e-01]\n",
      " [ 4.300e+00  3.000e+00  1.100e+00  1.000e-01]\n",
      " [ 6.000e+00  2.200e+00  5.000e+00  1.500e+00]\n",
      " [ 7.200e+00  3.200e+00  6.000e+00  1.800e+00]\n",
      " [ 4.600e+00  3.100e+00  1.500e+00  2.000e-01]\n",
      " [ 5.100e+00  3.500e+00  1.400e+00  3.000e-01]\n",
      " [ 4.400e+00  3.000e+00  1.300e+00  2.000e-01]\n",
      " [ 6.300e+00  2.500e+00  4.900e+00  1.500e+00]\n",
      " [ 6.300e+00  3.400e+00  5.600e+00  2.400e+00]\n",
      " [ 4.600e+00  3.400e+00  1.400e+00  3.000e-01]\n",
      " [ 6.800e+00  3.000e+00  5.500e+00  2.100e+00]\n",
      " [ 6.300e+00  3.300e+00  6.000e+00  2.500e+00]\n",
      " [ 4.700e+00  3.200e+00  1.300e+00  2.000e-01]\n",
      " [ 6.100e+00  2.900e+00  4.700e+00  1.400e+00]\n",
      " [ 6.500e+00  2.800e+00  4.600e+00  1.500e+00]\n",
      " [ 6.200e+00  2.800e+00  4.800e+00  1.800e+00]\n",
      " [ 7.000e+00  3.200e+00  4.700e+00  1.400e+00]\n",
      " [ 6.400e+00  3.200e+00  5.300e+00  2.300e+00]\n",
      " [ 5.100e+00  3.800e+00  1.600e+00  2.000e-01]\n",
      " [ 6.900e+00  3.100e+00  5.400e+00  2.100e+00]\n",
      " [ 5.900e+00  3.000e+00  4.200e+00  1.500e+00]\n",
      " [ 6.500e+00  3.000e+00  5.200e+00  2.000e+00]\n",
      " [ 5.700e+00  2.600e+00  3.500e+00  3.500e+00]\n",
      " [ 5.200e+00  2.700e+00  3.900e+00  1.400e+00]\n",
      " [ 3.500e+00  3.000e+00  4.600e+00  1.400e+00]\n",
      " [ 4.500e+00  2.300e+00  1.300e+00  3.000e-01]\n",
      " [ 6.600e+00  2.900e+00  4.600e+00  1.300e+00]\n",
      " [ 5.500e+00  2.600e+00  4.400e+00  1.200e+00]\n",
      " [ 5.300e+00  3.700e+00  1.500e+00  2.000e-01]\n",
      " [ 5.600e+00  3.000e+00  4.100e+00  1.300e+00]\n",
      " [ 7.300e+00  2.900e+00  6.300e+00  1.800e+00]\n",
      " [ 6.700e+00  3.300e+00  5.700e+00  2.100e+00]\n",
      " [ 5.100e+00  3.700e+00  1.500e+00  4.000e-01]\n",
      " [ 4.900e+00  2.400e+00  3.300e+00  1.000e+00]\n",
      " [ 6.700e+00  3.300e+00  5.700e+00  2.500e+00]\n",
      " [ 7.200e+00  3.000e+00  5.800e+00  1.600e+00]\n",
      " [ 4.900e+00  3.100e+00  1.500e+00  1.000e-01]\n",
      " [ 3.500e+00  3.100e+00  5.600e+00  2.400e+00]\n",
      " [ 4.900e+00  3.000e+00  1.400e+00  2.000e-01]\n",
      " [ 6.900e+00  3.100e+00  4.900e+00  1.500e+00]\n",
      " [ 7.400e+00  2.800e+00  6.100e+00  1.900e+00]\n",
      " [ 6.300e+00  2.900e+00  5.600e+00  1.800e+00]\n",
      " [ 5.700e+00  2.800e+00  4.100e+00  1.300e+00]\n",
      " [ 6.500e+00  3.000e+00  5.500e+00  1.800e+00]\n",
      " [ 6.300e+00 -4.200e+04  4.400e+00  1.300e+00]\n",
      " [ 6.400e+00  2.900e+00  4.300e+00  1.300e+00]\n",
      " [ 5.600e+00  3.500e+00  4.900e+00  2.000e+00]\n",
      " [ 5.900e+00  3.000e+00  5.100e+00  1.800e+00]\n",
      " [ 5.400e+00  3.400e+00  1.700e+00  2.000e-01]\n",
      " [ 6.100e+00  2.800e+00  4.000e+00  1.300e+00]\n",
      " [ 4.900e+00  2.500e+00  4.500e+00  1.700e+00]\n",
      " [ 5.800e+00  4.000e+00  1.200e+00  2.000e-01]\n",
      " [ 5.800e+00  2.600e+00  4.000e+00  1.200e+00]\n",
      " [ 7.100e+00  3.000e+00  5.900e+00  2.100e+00]]\n"
     ]
    }
   ],
   "source": [
    "x[np.isnan(x)] = 3.5\n",
    "x.shape\n",
    "print(x)"
   ]
  },
  {
   "cell_type": "code",
   "execution_count": 7,
   "metadata": {},
   "outputs": [
    {
     "data": {
      "text/plain": [
       "(array([ 339.04      , -276.31066667,    2.95733333,   21.26066667]),\n",
       " array([1.65517522e+07, 1.16837285e+07, 1.49035963e+04, 5.95502852e+04]))"
      ]
     },
     "execution_count": 7,
     "metadata": {},
     "output_type": "execute_result"
    }
   ],
   "source": [
    "np.mean(x,axis=0),np.var(x,axis=0)"
   ]
  },
  {
   "cell_type": "code",
   "execution_count": 8,
   "metadata": {},
   "outputs": [
    {
     "data": {
      "text/plain": [
       "(4, 2)"
      ]
     },
     "execution_count": 8,
     "metadata": {},
     "output_type": "execute_result"
    }
   ],
   "source": [
    "(x > 13.0).sum(), (x < 0.0).sum()"
   ]
  },
  {
   "cell_type": "code",
   "execution_count": 9,
   "metadata": {},
   "outputs": [
    {
     "data": {
      "text/plain": [
       "array([ -1111.,    100.,   1000.,  50000.,   3000., -42000.])"
      ]
     },
     "execution_count": 9,
     "metadata": {},
     "output_type": "execute_result"
    }
   ],
   "source": [
    "x[np.where(np.logical_or(x > 13.0,x < 0.0))]"
   ]
  },
  {
   "cell_type": "code",
   "execution_count": 10,
   "metadata": {},
   "outputs": [
    {
     "data": {
      "text/plain": [
       "(array([ -1111., -42000.]), array([  100.,  1000., 50000.,  3000.]))"
      ]
     },
     "execution_count": 10,
     "metadata": {},
     "output_type": "execute_result"
    }
   ],
   "source": [
    "less_than = x[np.where(x < 0.0)]\n",
    "higher_than = x[np.where(x > 13.0)]\n",
    "less_than,higher_than"
   ]
  },
  {
   "cell_type": "code",
   "execution_count": 11,
   "metadata": {},
   "outputs": [
    {
     "data": {
      "text/plain": [
       "((144, 4), (144,))"
      ]
     },
     "execution_count": 11,
     "metadata": {},
     "output_type": "execute_result"
    }
   ],
   "source": [
    "y = np.delete(y,np.where(x < 0.0)[0],axis=0)\n",
    "y = np.delete(y,np.where(x > 13.0)[0],axis=0)\n",
    "x = np.delete(x,np.where(x < 0.0)[0],axis=0)\n",
    "x = np.delete(x,np.where(x > 13.0)[0],axis=0)\n",
    "x.shape,y.shape"
   ]
  },
  {
   "attachments": {},
   "cell_type": "markdown",
   "metadata": {},
   "source": [
    "Train test split\n",
    "try optim"
   ]
  },
  {
   "cell_type": "code",
   "execution_count": 12,
   "metadata": {},
   "outputs": [],
   "source": [
    "def train_test_split(features:np.ndarray,\n",
    "                     labels:np.ndarray,\n",
    "                     test_split_ratio:float) -> None:\n",
    "        \n",
    "    test_size = int(len(features) * test_split_ratio)\n",
    "    train_size = len(features) - test_size\n",
    "    assert len(features) == test_size + train_size, \"Size mismatch!\"\n",
    "\n",
    "    x_train,y_train = features[:train_size,:], labels[:train_size]\n",
    "    x_test,y_test = features[train_size:train_size+test_size,:], labels[train_size:train_size + test_size]\n",
    "    return (x_train,y_train,x_test,y_test)\n",
    "\n",
    "x_train, y_train, x_test, y_test = train_test_split(x, y, 0.7)"
   ]
  },
  {
   "attachments": {},
   "cell_type": "markdown",
   "metadata": {},
   "source": [
    "Distance"
   ]
  },
  {
   "cell_type": "code",
   "execution_count": 24,
   "metadata": {},
   "outputs": [
    {
     "data": {
      "text/plain": [
       "array([0.64807407, 3.15436206, 2.90344623, 0.6244998 , 3.318132  ,\n",
       "       1.28840987, 1.18321596, 0.90553851, 1.00995049, 0.9486833 ,\n",
       "       3.73229152, 1.92613603, 3.60555128, 0.55677644, 1.61554944,\n",
       "       1.26095202, 3.75099987, 1.53948043, 3.59583092, 0.81240384,\n",
       "       3.4       , 1.41774469, 2.58650343, 1.2083046 , 1.54272486,\n",
       "       3.539774  , 4.16653333, 3.48998567, 0.14142136, 4.36463057,\n",
       "       3.99124041, 0.97467943, 0.31622777, 3.47275107, 3.65513338,\n",
       "       3.64280112, 1.21243557, 0.75498344, 0.34641016, 3.58608422,\n",
       "       3.43220046, 1.48996644, 0.79372539, 1.19163753])"
      ]
     },
     "execution_count": 24,
     "metadata": {},
     "output_type": "execute_result"
    }
   ],
   "source": [
    "def euclidean(points:np.ndarray,element_of_x:np.ndarray) -> np.ndarray:\n",
    "    return np.sqrt(np.sum((points - element_of_x)**2,axis=1))\n",
    "\n",
    "euclidean(x_train, x_test[0])"
   ]
  },
  {
   "attachments": {},
   "cell_type": "markdown",
   "metadata": {},
   "source": [
    "Predict func"
   ]
  },
  {
   "cell_type": "code",
   "execution_count": 19,
   "metadata": {},
   "outputs": [
    {
     "name": "stderr",
     "output_type": "stream",
     "text": [
      "Traceback (most recent call last):\n",
      "  File \"C:\\Users\\darab\\AppData\\Roaming\\Python\\Python39\\site-packages\\debugpy\\_vendored\\pydevd\\_pydevd_bundle\\pydevd_vars.py\", line 624, in change_attr_expression\n",
      "    value = eval(expression, frame.f_globals, frame.f_locals)\n",
      "  File \"<string>\", line 1, in <module>\n",
      "NameError: name 'array' is not defined\n"
     ]
    },
    {
     "data": {
      "text/plain": [
       "((100,), (44,))"
      ]
     },
     "execution_count": 19,
     "metadata": {},
     "output_type": "execute_result"
    }
   ],
   "source": [
    "def predict(x_train:np.ndarray,y_train:np.ndarray,x_test:np.ndarray,k:int) -> np.ndarray:\n",
    "    labels_pred = []\n",
    "    for x_test_element in x_test:\n",
    "        distances = euclidean(x_train,x_test_element)\n",
    "        distances = np.array(sorted(zip(distances,y_train)))\n",
    "        label_pred = mode(distances[:k,1],keepdims=False).mode\n",
    "        labels_pred.append(label_pred)\n",
    "    return np.array(labels_pred,dtype=np.int32)\n",
    "\n",
    "pred = predict(x_train, y_train, x_test, 3)\n",
    "pred.shape, y_train.shape"
   ]
  },
  {
   "attachments": {},
   "cell_type": "markdown",
   "metadata": {},
   "source": [
    "Metrics"
   ]
  },
  {
   "cell_type": "code",
   "execution_count": 15,
   "metadata": {},
   "outputs": [
    {
     "data": {
      "text/plain": [
       "94.0"
      ]
     },
     "execution_count": 15,
     "metadata": {},
     "output_type": "execute_result"
    }
   ],
   "source": [
    "def accuracy(y_test:np.ndarray,y_preds:np.ndarray) -> float:\n",
    "    true_positive = (y_test == y_preds).sum()\n",
    "    return true_positive / len(y_test) * 100\n",
    "\n",
    "accuracy(y_test, pred)"
   ]
  },
  {
   "cell_type": "code",
   "execution_count": 16,
   "metadata": {},
   "outputs": [
    {
     "data": {
      "image/png": "[encoded data removed]",
      "text/plain": [
       "<Figure size 640x480 with 2 Axes>"
      ]
     },
     "metadata": {},
     "output_type": "display_data"
    }
   ],
   "source": [
    "def plot_confusion_matrix(y_test:np.ndarray,y_preds:np.ndarray):\n",
    "        conf_matrix = confusion_matrix(y_test,y_preds)\n",
    "        sns.heatmap(conf_matrix,annot=True) \n",
    "\n",
    "\n",
    "plot_confusion_matrix(y_test, pred)"
   ]
  }
 ],
 "metadata": {
  "kernelspec": {
   "display_name": "Python 3",
   "language": "python",
   "name": "python3"
  },
  "language_info": {
   "codemirror_mode": {
    "name": "ipython",
    "version": 3
   },
   "file_extension": ".py",
   "mimetype": "text/x-python",
   "name": "python",
   "nbconvert_exporter": "python",
   "pygments_lexer": "ipython3",
   "version": "3.9.7"
  },
  "orig_nbformat": 4
 },
 "nbformat": 4,
 "nbformat_minor": 2
}
